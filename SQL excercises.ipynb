{
 "cells": [
  {
   "cell_type": "markdown",
   "metadata": {},
   "source": [
    "# Loading dependencies"
   ]
  },
  {
   "cell_type": "code",
   "execution_count": 1,
   "metadata": {
    "collapsed": false
   },
   "outputs": [],
   "source": [
    "%load_ext sql"
   ]
  },
  {
   "cell_type": "code",
   "execution_count": 2,
   "metadata": {
    "collapsed": false
   },
   "outputs": [
    {
     "data": {
      "text/plain": [
       "'Connected: @None'"
      ]
     },
     "execution_count": 2,
     "metadata": {},
     "output_type": "execute_result"
    }
   ],
   "source": [
    "%sql sqlite://"
   ]
  },
  {
   "cell_type": "markdown",
   "metadata": {},
   "source": [
    "# Loans database"
   ]
  },
  {
   "cell_type": "code",
   "execution_count": 3,
   "metadata": {
    "collapsed": false
   },
   "outputs": [
    {
     "name": "stdout",
     "output_type": "stream",
     "text": [
      " * sqlite://\n",
      "Done.\n",
      "Done.\n",
      "Done.\n",
      "1 rows affected.\n",
      "1 rows affected.\n",
      "1 rows affected.\n",
      "1 rows affected.\n",
      "1 rows affected.\n",
      "1 rows affected.\n",
      "1 rows affected.\n",
      "1 rows affected.\n",
      "1 rows affected.\n",
      "1 rows affected.\n",
      "1 rows affected.\n",
      "1 rows affected.\n",
      "1 rows affected.\n",
      "1 rows affected.\n"
     ]
    },
    {
     "data": {
      "text/plain": [
       "[]"
      ]
     },
     "execution_count": 3,
     "metadata": {},
     "output_type": "execute_result"
    }
   ],
   "source": [
    "%%sql\n",
    "\n",
    "PRAGMA foreign_keys = ON; -- activates foreign key features in sqlite. It is disabled by default\n",
    "\n",
    "CREATE TABLE Clients (\n",
    "    CLIENTNUMBER INTEGER PRIMARY KEY, -- needs to be primary key for foriegn_keys to work\n",
    "    FIRSTNAME VARCHAR(20),\n",
    "    SURNAME VARCHAR(20),\n",
    "    EMAIL VARCHAR(100),\n",
    "    PHONE VARCHAR(20)\n",
    "\n",
    ");\n",
    "\n",
    "CREATE TABLE Loans (\n",
    "    ACCOUNTNUMBER INT, --A unique integer to identify this account\n",
    "    CLIENTNUMBER INT, -- An integer to identify the client (clients may have more than one account)\n",
    "    STARTDATE DATETIME, -- The time that this account was created\n",
    "    STARTMONTH INT, -- The month for which the first repayment is due (201805 means May 2018)\n",
    "    TERM INT, -- Over how many months the loan must be repaid\n",
    "    REMAINING_TERM INT, -- How many months remain\n",
    "    PRINCIPALDEBT NUMERIC(11, 2), -- The size of the initial loan\n",
    "    ACCOUNTLIMIT NUMERIC(11, 2), --\n",
    "    BALANCE NUMERIC(11, 2), -- How much is currently owed\n",
    "    STATUS VARCHAR(11), -- Human readable status - e.g. \"PAID OFF\", \"ARREARS\", \"NORMAL\"\n",
    "    FOREIGN KEY (CLIENTNUMBER) REFERENCES Clients(CLIENTNUMBER) -- CLIENTNUMBER is the foreign key from Clients table.\n",
    ");\n",
    "\n",
    "INSERT INTO Clients VALUES (1, 'Robert', 'Warren', 'RobertDWarren@teleworm.us', '(251) 546-9442');\n",
    "INSERT INTO Clients VALUES (2, 'Vincent', 'Brown', 'VincentHBrown@rhyta.com', '(125) 546-4478');\n",
    "INSERT INTO Clients VALUES (3, 'Janet', 'Prettyman', 'JanetTPrettyman@teleworm.us', '(949) 569-4371');\n",
    "INSERT INTO Clients VALUES (4, 'Martina', 'Kershner', 'MartinaMKershner@rhyta.com', '(630) 446-8851');\n",
    "INSERT INTO Clients VALUES (5, 'Tony', 'Schroeder', 'TonySSchroeder@teleworm.us', '(226) 906-2721');\n",
    "INSERT INTO Clients VALUES (6, 'Harold', 'Grimes', 'HaroldVGrimes@dayrep.com', '(671) 925-1352');\n",
    "\n",
    "INSERT INTO Loans VALUES (1,1,'2017-11-01 10:00:00', 201712, 36, 35, 10000.00, 15000.00, 9800.00, 'NORMAL');\n",
    "INSERT INTO Loans VALUES (2,2,'2018-01-01 10:00:00', 201802, 24, 24, 1000.00, 1500.00, 1000.00, 'NORMAL');\n",
    "INSERT INTO Loans VALUES (3,1,'2016-11-01 10:00:00', 201612, 12, -3, 2000.00, 15000.00, 4985.12, 'ARREARS');\n",
    "INSERT INTO Loans VALUES (4,3,'2018-01-01 10:00:00', 201802, 24, 24, 3500.00, 5000.00, 1300.00, 'NORMAL');\n",
    "INSERT INTO Loans VALUES (5,4,'2017-11-01 10:00:00', 201712, 12, 35, 10000.00, 15000.00, 0.00, 'PAID OFF');\n",
    "INSERT INTO Loans VALUES (6,5,'2018-01-01 10:00:00', 201802, 48, 24, 1000.00, 1500.00, 0.00, 'PAID OFF');\n",
    "INSERT INTO Loans VALUES (7,6,'2015-11-01 10:00:00', 201512, 12, -20, 10000.00, 15000.00, 9800.00, 'Arrears');\n",
    "INSERT INTO Loans VALUES (7,4,'2018-01-01 10:00:00', 201802, 12, 1, 2400.00, 3600.00, 130.00, 'NORMAL');"
   ]
  },
  {
   "cell_type": "code",
   "execution_count": 4,
   "metadata": {
    "collapsed": false
   },
   "outputs": [
    {
     "name": "stdout",
     "output_type": "stream",
     "text": [
      " * sqlite://\n",
      "Done.\n"
     ]
    },
    {
     "data": {
      "text/html": [
       "<table>\n",
       "    <tr>\n",
       "        <th>CLIENTNUMBER</th>\n",
       "        <th>FIRSTNAME</th>\n",
       "        <th>SURNAME</th>\n",
       "        <th>EMAIL</th>\n",
       "        <th>PHONE</th>\n",
       "    </tr>\n",
       "    <tr>\n",
       "        <td>1</td>\n",
       "        <td>Robert</td>\n",
       "        <td>Warren</td>\n",
       "        <td>RobertDWarren@teleworm.us</td>\n",
       "        <td>(251) 546-9442</td>\n",
       "    </tr>\n",
       "    <tr>\n",
       "        <td>2</td>\n",
       "        <td>Vincent</td>\n",
       "        <td>Brown</td>\n",
       "        <td>VincentHBrown@rhyta.com</td>\n",
       "        <td>(125) 546-4478</td>\n",
       "    </tr>\n",
       "    <tr>\n",
       "        <td>3</td>\n",
       "        <td>Janet</td>\n",
       "        <td>Prettyman</td>\n",
       "        <td>JanetTPrettyman@teleworm.us</td>\n",
       "        <td>(949) 569-4371</td>\n",
       "    </tr>\n",
       "    <tr>\n",
       "        <td>4</td>\n",
       "        <td>Martina</td>\n",
       "        <td>Kershner</td>\n",
       "        <td>MartinaMKershner@rhyta.com</td>\n",
       "        <td>(630) 446-8851</td>\n",
       "    </tr>\n",
       "    <tr>\n",
       "        <td>5</td>\n",
       "        <td>Tony</td>\n",
       "        <td>Schroeder</td>\n",
       "        <td>TonySSchroeder@teleworm.us</td>\n",
       "        <td>(226) 906-2721</td>\n",
       "    </tr>\n",
       "    <tr>\n",
       "        <td>6</td>\n",
       "        <td>Harold</td>\n",
       "        <td>Grimes</td>\n",
       "        <td>HaroldVGrimes@dayrep.com</td>\n",
       "        <td>(671) 925-1352</td>\n",
       "    </tr>\n",
       "</table>"
      ],
      "text/plain": [
       "[(1, u'Robert', u'Warren', u'RobertDWarren@teleworm.us', u'(251) 546-9442'),\n",
       " (2, u'Vincent', u'Brown', u'VincentHBrown@rhyta.com', u'(125) 546-4478'),\n",
       " (3, u'Janet', u'Prettyman', u'JanetTPrettyman@teleworm.us', u'(949) 569-4371'),\n",
       " (4, u'Martina', u'Kershner', u'MartinaMKershner@rhyta.com', u'(630) 446-8851'),\n",
       " (5, u'Tony', u'Schroeder', u'TonySSchroeder@teleworm.us', u'(226) 906-2721'),\n",
       " (6, u'Harold', u'Grimes', u'HaroldVGrimes@dayrep.com', u'(671) 925-1352')]"
      ]
     },
     "execution_count": 4,
     "metadata": {},
     "output_type": "execute_result"
    }
   ],
   "source": [
    "%%sql \n",
    "\n",
    "SELECT * FROM Clients"
   ]
  },
  {
   "cell_type": "code",
   "execution_count": 5,
   "metadata": {
    "collapsed": false
   },
   "outputs": [
    {
     "name": "stdout",
     "output_type": "stream",
     "text": [
      " * sqlite://\n",
      "Done.\n"
     ]
    },
    {
     "data": {
      "text/html": [
       "<table>\n",
       "    <tr>\n",
       "        <th>ACCOUNTNUMBER</th>\n",
       "        <th>CLIENTNUMBER</th>\n",
       "        <th>STARTDATE</th>\n",
       "        <th>STARTMONTH</th>\n",
       "        <th>TERM</th>\n",
       "        <th>REMAINING_TERM</th>\n",
       "        <th>PRINCIPALDEBT</th>\n",
       "        <th>ACCOUNTLIMIT</th>\n",
       "        <th>BALANCE</th>\n",
       "        <th>STATUS</th>\n",
       "    </tr>\n",
       "    <tr>\n",
       "        <td>1</td>\n",
       "        <td>1</td>\n",
       "        <td>2017-11-01 10:00:00</td>\n",
       "        <td>201712</td>\n",
       "        <td>36</td>\n",
       "        <td>35</td>\n",
       "        <td>10000</td>\n",
       "        <td>15000</td>\n",
       "        <td>9800</td>\n",
       "        <td>NORMAL</td>\n",
       "    </tr>\n",
       "    <tr>\n",
       "        <td>2</td>\n",
       "        <td>2</td>\n",
       "        <td>2018-01-01 10:00:00</td>\n",
       "        <td>201802</td>\n",
       "        <td>24</td>\n",
       "        <td>24</td>\n",
       "        <td>1000</td>\n",
       "        <td>1500</td>\n",
       "        <td>1000</td>\n",
       "        <td>NORMAL</td>\n",
       "    </tr>\n",
       "    <tr>\n",
       "        <td>3</td>\n",
       "        <td>1</td>\n",
       "        <td>2016-11-01 10:00:00</td>\n",
       "        <td>201612</td>\n",
       "        <td>12</td>\n",
       "        <td>-3</td>\n",
       "        <td>2000</td>\n",
       "        <td>15000</td>\n",
       "        <td>4985.12</td>\n",
       "        <td>ARREARS</td>\n",
       "    </tr>\n",
       "    <tr>\n",
       "        <td>4</td>\n",
       "        <td>3</td>\n",
       "        <td>2018-01-01 10:00:00</td>\n",
       "        <td>201802</td>\n",
       "        <td>24</td>\n",
       "        <td>24</td>\n",
       "        <td>3500</td>\n",
       "        <td>5000</td>\n",
       "        <td>1300</td>\n",
       "        <td>NORMAL</td>\n",
       "    </tr>\n",
       "    <tr>\n",
       "        <td>5</td>\n",
       "        <td>4</td>\n",
       "        <td>2017-11-01 10:00:00</td>\n",
       "        <td>201712</td>\n",
       "        <td>12</td>\n",
       "        <td>35</td>\n",
       "        <td>10000</td>\n",
       "        <td>15000</td>\n",
       "        <td>0</td>\n",
       "        <td>PAID OFF</td>\n",
       "    </tr>\n",
       "    <tr>\n",
       "        <td>6</td>\n",
       "        <td>5</td>\n",
       "        <td>2018-01-01 10:00:00</td>\n",
       "        <td>201802</td>\n",
       "        <td>48</td>\n",
       "        <td>24</td>\n",
       "        <td>1000</td>\n",
       "        <td>1500</td>\n",
       "        <td>0</td>\n",
       "        <td>PAID OFF</td>\n",
       "    </tr>\n",
       "    <tr>\n",
       "        <td>7</td>\n",
       "        <td>6</td>\n",
       "        <td>2015-11-01 10:00:00</td>\n",
       "        <td>201512</td>\n",
       "        <td>12</td>\n",
       "        <td>-20</td>\n",
       "        <td>10000</td>\n",
       "        <td>15000</td>\n",
       "        <td>9800</td>\n",
       "        <td>Arrears</td>\n",
       "    </tr>\n",
       "    <tr>\n",
       "        <td>7</td>\n",
       "        <td>4</td>\n",
       "        <td>2018-01-01 10:00:00</td>\n",
       "        <td>201802</td>\n",
       "        <td>12</td>\n",
       "        <td>1</td>\n",
       "        <td>2400</td>\n",
       "        <td>3600</td>\n",
       "        <td>130</td>\n",
       "        <td>NORMAL</td>\n",
       "    </tr>\n",
       "</table>"
      ],
      "text/plain": [
       "[(1, 1, u'2017-11-01 10:00:00', 201712, 36, 35, 10000, 15000, 9800, u'NORMAL'),\n",
       " (2, 2, u'2018-01-01 10:00:00', 201802, 24, 24, 1000, 1500, 1000, u'NORMAL'),\n",
       " (3, 1, u'2016-11-01 10:00:00', 201612, 12, -3, 2000, 15000, 4985.12, u'ARREARS'),\n",
       " (4, 3, u'2018-01-01 10:00:00', 201802, 24, 24, 3500, 5000, 1300, u'NORMAL'),\n",
       " (5, 4, u'2017-11-01 10:00:00', 201712, 12, 35, 10000, 15000, 0, u'PAID OFF'),\n",
       " (6, 5, u'2018-01-01 10:00:00', 201802, 48, 24, 1000, 1500, 0, u'PAID OFF'),\n",
       " (7, 6, u'2015-11-01 10:00:00', 201512, 12, -20, 10000, 15000, 9800, u'Arrears'),\n",
       " (7, 4, u'2018-01-01 10:00:00', 201802, 12, 1, 2400, 3600, 130, u'NORMAL')]"
      ]
     },
     "execution_count": 5,
     "metadata": {},
     "output_type": "execute_result"
    }
   ],
   "source": [
    "%%sql \n",
    "\n",
    "SELECT * FROM Loans"
   ]
  },
  {
   "cell_type": "markdown",
   "metadata": {},
   "source": [
    "# Tasks"
   ]
  },
  {
   "cell_type": "code",
   "execution_count": null,
   "metadata": {
    "collapsed": false
   },
   "outputs": [],
   "source": [
    "'''1. Everyone who owes more than $5,000 on an account:'''"
   ]
  },
  {
   "cell_type": "code",
   "execution_count": 6,
   "metadata": {
    "collapsed": false
   },
   "outputs": [
    {
     "name": "stdout",
     "output_type": "stream",
     "text": [
      " * sqlite://\n",
      "Done.\n"
     ]
    },
    {
     "data": {
      "text/html": [
       "<table>\n",
       "    <tr>\n",
       "        <th>FIRSTNAME</th>\n",
       "        <th>SURNAME</th>\n",
       "        <th>BALANCE</th>\n",
       "    </tr>\n",
       "    <tr>\n",
       "        <td>Robert</td>\n",
       "        <td>Warren</td>\n",
       "        <td>9800</td>\n",
       "    </tr>\n",
       "    <tr>\n",
       "        <td>Harold</td>\n",
       "        <td>Grimes</td>\n",
       "        <td>9800</td>\n",
       "    </tr>\n",
       "</table>"
      ],
      "text/plain": [
       "[(u'Robert', u'Warren', 9800), (u'Harold', u'Grimes', 9800)]"
      ]
     },
     "execution_count": 6,
     "metadata": {},
     "output_type": "execute_result"
    }
   ],
   "source": [
    "%%sql\n",
    "\n",
    "SELECT FIRSTNAME, SURNAME, BALANCE FROM Loans\n",
    "    JOIN Clients ON Loans.CLIENTNUMBER = Clients.CLIENTNUMBER\n",
    "    WHERE BALANCE > 5000.00;"
   ]
  },
  {
   "cell_type": "code",
   "execution_count": null,
   "metadata": {
    "collapsed": true
   },
   "outputs": [],
   "source": [
    "'2. Find all loans older than Jan 2017'"
   ]
  },
  {
   "cell_type": "code",
   "execution_count": 7,
   "metadata": {
    "collapsed": false
   },
   "outputs": [
    {
     "name": "stdout",
     "output_type": "stream",
     "text": [
      " * sqlite://\n",
      "Done.\n"
     ]
    },
    {
     "data": {
      "text/html": [
       "<table>\n",
       "    <tr>\n",
       "        <th>ACCOUNTNUMBER</th>\n",
       "        <th>CLIENTNUMBER</th>\n",
       "        <th>STARTDATE</th>\n",
       "        <th>STARTMONTH</th>\n",
       "        <th>TERM</th>\n",
       "        <th>REMAINING_TERM</th>\n",
       "        <th>PRINCIPALDEBT</th>\n",
       "        <th>ACCOUNTLIMIT</th>\n",
       "        <th>BALANCE</th>\n",
       "        <th>STATUS</th>\n",
       "    </tr>\n",
       "    <tr>\n",
       "        <td>3</td>\n",
       "        <td>1</td>\n",
       "        <td>2016-11-01 10:00:00</td>\n",
       "        <td>201612</td>\n",
       "        <td>12</td>\n",
       "        <td>-3</td>\n",
       "        <td>2000</td>\n",
       "        <td>15000</td>\n",
       "        <td>4985.12</td>\n",
       "        <td>ARREARS</td>\n",
       "    </tr>\n",
       "    <tr>\n",
       "        <td>7</td>\n",
       "        <td>6</td>\n",
       "        <td>2015-11-01 10:00:00</td>\n",
       "        <td>201512</td>\n",
       "        <td>12</td>\n",
       "        <td>-20</td>\n",
       "        <td>10000</td>\n",
       "        <td>15000</td>\n",
       "        <td>9800</td>\n",
       "        <td>Arrears</td>\n",
       "    </tr>\n",
       "</table>"
      ],
      "text/plain": [
       "[(3, 1, u'2016-11-01 10:00:00', 201612, 12, -3, 2000, 15000, 4985.12, u'ARREARS'),\n",
       " (7, 6, u'2015-11-01 10:00:00', 201512, 12, -20, 10000, 15000, 9800, u'Arrears')]"
      ]
     },
     "execution_count": 7,
     "metadata": {},
     "output_type": "execute_result"
    }
   ],
   "source": [
    "%%sql\n",
    "SELECT * FROM Loans WHERE STARTDATE < '2017-01-01 00:00:00'"
   ]
  },
  {
   "cell_type": "code",
   "execution_count": null,
   "metadata": {
    "collapsed": true
   },
   "outputs": [],
   "source": [
    "'3. Find all clients who have more than one loan'"
   ]
  },
  {
   "cell_type": "code",
   "execution_count": 24,
   "metadata": {
    "collapsed": false
   },
   "outputs": [
    {
     "name": "stdout",
     "output_type": "stream",
     "text": [
      " * sqlite://\n",
      "Done.\n",
      "(sqlite3.OperationalError) near \"JOIN\": syntax error [SQL: u'JOIN Clients ON Clients.CLIENTNUMBER = Loans.CLIENTNUMBER;']\n"
     ]
    }
   ],
   "source": [
    "%%sql\n",
    "SELECT FIRSTNAME, SURNAME FROM Clients;\n",
    "JOIN Clients ON Clients.CLIENTNUMBER = Loans.CLIENTNUMBER;\n",
    "GROUP BY CLIENTNUMBER;\n",
    "HAVING COUNT(ACCOUNTNUMBER) > 1;"
   ]
  },
  {
   "cell_type": "code",
   "execution_count": null,
   "metadata": {
    "collapsed": true
   },
   "outputs": [],
   "source": [
    "\"4. Find the total balance outstanding over all loans that aren't in arrears\""
   ]
  },
  {
   "cell_type": "code",
   "execution_count": 12,
   "metadata": {
    "collapsed": false
   },
   "outputs": [
    {
     "name": "stdout",
     "output_type": "stream",
     "text": [
      " * sqlite://\n",
      "Done.\n",
      "Done.\n",
      "Done.\n",
      "Done.\n"
     ]
    },
    {
     "data": {
      "text/html": [
       "<table>\n",
       "    <tr>\n",
       "        <th>MAX(BALANCE)</th>\n",
       "    </tr>\n",
       "    <tr>\n",
       "        <td>9800</td>\n",
       "    </tr>\n",
       "</table>"
      ],
      "text/plain": [
       "[(9800,)]"
      ]
     },
     "execution_count": 12,
     "metadata": {},
     "output_type": "execute_result"
    }
   ],
   "source": [
    "%%sql\n",
    "SELECT MAX(BALANCE) FROM Loans WHERE STATUS LIKE \"Arrears\";"
   ]
  },
  {
   "cell_type": "code",
   "execution_count": null,
   "metadata": {
    "collapsed": true
   },
   "outputs": [],
   "source": [
    "'5. Are all account numbers unique? (How should we fix this in general)'"
   ]
  },
  {
   "cell_type": "code",
   "execution_count": 40,
   "metadata": {
    "collapsed": false
   },
   "outputs": [
    {
     "name": "stdout",
     "output_type": "stream",
     "text": [
      " * sqlite://\n",
      "Done.\n",
      "Done.\n",
      "Done.\n"
     ]
    },
    {
     "data": {
      "text/html": [
       "<table>\n",
       "    <tr>\n",
       "        <th>COUNT(*)</th>\n",
       "    </tr>\n",
       "    <tr>\n",
       "        <td>8</td>\n",
       "    </tr>\n",
       "</table>"
      ],
      "text/plain": [
       "[(8,)]"
      ]
     },
     "execution_count": 40,
     "metadata": {},
     "output_type": "execute_result"
    }
   ],
   "source": [
    "%%sql\n",
    "\n",
    "SELECT COUNT(*) FROM Loans;\n",
    "SELECT DISTINCT ACCOUNTNUMBER FROM Loans;\n",
    "SELECT COUNT(*) FROM Loans\n",
    "\n",
    "\"\"\"Not, as the initial SELECT COUNT and \n",
    "the final SELECT COUNT after running\n",
    "a SELECT DISTINCT are NOT equal \"\"\""
   ]
  },
  {
   "cell_type": "code",
   "execution_count": null,
   "metadata": {
    "collapsed": true
   },
   "outputs": [],
   "source": [
    "'6. Martina has undergone gender reassignment and is now Martin'"
   ]
  },
  {
   "cell_type": "code",
   "execution_count": 41,
   "metadata": {
    "collapsed": false
   },
   "outputs": [
    {
     "name": "stdout",
     "output_type": "stream",
     "text": [
      " * sqlite://\n",
      "1 rows affected.\n"
     ]
    },
    {
     "data": {
      "text/plain": [
       "[]"
      ]
     },
     "execution_count": 41,
     "metadata": {},
     "output_type": "execute_result"
    }
   ],
   "source": [
    "%%sql\n",
    "\n",
    "UPDATE Clients SET FIRSTNAME='Martin', EMAIL='MartinMKershner@rhyta.com' WHERE CLIENTNUMBER=4;"
   ]
  },
  {
   "cell_type": "code",
   "execution_count": 42,
   "metadata": {
    "collapsed": false
   },
   "outputs": [
    {
     "name": "stdout",
     "output_type": "stream",
     "text": [
      " * sqlite://\n",
      "Done.\n"
     ]
    },
    {
     "data": {
      "text/html": [
       "<table>\n",
       "    <tr>\n",
       "        <th>CLIENTNUMBER</th>\n",
       "        <th>FIRSTNAME</th>\n",
       "        <th>SURNAME</th>\n",
       "        <th>EMAIL</th>\n",
       "        <th>PHONE</th>\n",
       "    </tr>\n",
       "    <tr>\n",
       "        <td>1</td>\n",
       "        <td>Robert</td>\n",
       "        <td>Warren</td>\n",
       "        <td>RobertDWarren@teleworm.us</td>\n",
       "        <td>(251) 546-9442</td>\n",
       "    </tr>\n",
       "    <tr>\n",
       "        <td>2</td>\n",
       "        <td>Vincent</td>\n",
       "        <td>Brown</td>\n",
       "        <td>VincentHBrown@rhyta.com</td>\n",
       "        <td>(125) 546-4478</td>\n",
       "    </tr>\n",
       "    <tr>\n",
       "        <td>3</td>\n",
       "        <td>Janet</td>\n",
       "        <td>Prettyman</td>\n",
       "        <td>JanetTPrettyman@teleworm.us</td>\n",
       "        <td>(949) 569-4371</td>\n",
       "    </tr>\n",
       "    <tr>\n",
       "        <td>4</td>\n",
       "        <td>Martin</td>\n",
       "        <td>Kershner</td>\n",
       "        <td>MartinMKershner@rhyta.com</td>\n",
       "        <td>(630) 446-8851</td>\n",
       "    </tr>\n",
       "    <tr>\n",
       "        <td>5</td>\n",
       "        <td>Tony</td>\n",
       "        <td>Schroeder</td>\n",
       "        <td>TonySSchroeder@teleworm.us</td>\n",
       "        <td>(226) 906-2721</td>\n",
       "    </tr>\n",
       "    <tr>\n",
       "        <td>6</td>\n",
       "        <td>Harold</td>\n",
       "        <td>Grimes</td>\n",
       "        <td>HaroldVGrimes@dayrep.com</td>\n",
       "        <td>(671) 925-1352</td>\n",
       "    </tr>\n",
       "</table>"
      ],
      "text/plain": [
       "[(1, u'Robert', u'Warren', u'RobertDWarren@teleworm.us', u'(251) 546-9442'),\n",
       " (2, u'Vincent', u'Brown', u'VincentHBrown@rhyta.com', u'(125) 546-4478'),\n",
       " (3, u'Janet', u'Prettyman', u'JanetTPrettyman@teleworm.us', u'(949) 569-4371'),\n",
       " (4, u'Martin', u'Kershner', u'MartinMKershner@rhyta.com', u'(630) 446-8851'),\n",
       " (5, u'Tony', u'Schroeder', u'TonySSchroeder@teleworm.us', u'(226) 906-2721'),\n",
       " (6, u'Harold', u'Grimes', u'HaroldVGrimes@dayrep.com', u'(671) 925-1352')]"
      ]
     },
     "execution_count": 42,
     "metadata": {},
     "output_type": "execute_result"
    }
   ],
   "source": [
    "%%sql\n",
    "SELECT * FROM Clients"
   ]
  },
  {
   "cell_type": "code",
   "execution_count": null,
   "metadata": {
    "collapsed": true
   },
   "outputs": [],
   "source": [
    "'7. Get a list of email addresses for all clients who paid off a loan'"
   ]
  },
  {
   "cell_type": "code",
   "execution_count": 45,
   "metadata": {
    "collapsed": false
   },
   "outputs": [
    {
     "name": "stdout",
     "output_type": "stream",
     "text": [
      " * sqlite://\n",
      "Done.\n",
      "Done.\n",
      "Done.\n"
     ]
    },
    {
     "data": {
      "text/html": [
       "<table>\n",
       "    <tr>\n",
       "        <th>EMAIL</th>\n",
       "    </tr>\n",
       "    <tr>\n",
       "        <td>MartinMKershner@rhyta.com</td>\n",
       "    </tr>\n",
       "</table>"
      ],
      "text/plain": [
       "[(u'MartinMKershner@rhyta.com',)]"
      ]
     },
     "execution_count": 45,
     "metadata": {},
     "output_type": "execute_result"
    }
   ],
   "source": [
    "%%sql\n",
    "\n",
    "SELECT * FROM Loans WHERE STATUS=\"PAID OFF\";\n",
    "SELECT EMAIL FROM Clients WHERE CLIENTNUMBER=5 ;\n",
    "SELECT EMAIL FROM Clients WHERE CLIENTNUMBER=4 ;"
   ]
  },
  {
   "cell_type": "code",
   "execution_count": null,
   "metadata": {
    "collapsed": true
   },
   "outputs": [],
   "source": [
    "'8. Print out the largest loan for each client'"
   ]
  },
  {
   "cell_type": "code",
   "execution_count": 47,
   "metadata": {
    "collapsed": false
   },
   "outputs": [
    {
     "name": "stdout",
     "output_type": "stream",
     "text": [
      " * sqlite://\n",
      "Done.\n",
      "Done.\n"
     ]
    },
    {
     "data": {
      "text/plain": [
       "[]"
      ]
     },
     "execution_count": 47,
     "metadata": {},
     "output_type": "execute_result"
    }
   ],
   "source": [
    "%%sql\n",
    "\n",
    "SELECT PRINCIPALDEBT, ACCOUNTLIMIT FROM Loans;\n",
    "ALTER TABLE Loans ADD RATIO varchar(255);"
   ]
  },
  {
   "cell_type": "code",
   "execution_count": 48,
   "metadata": {
    "collapsed": false
   },
   "outputs": [
    {
     "name": "stdout",
     "output_type": "stream",
     "text": [
      " * sqlite://\n",
      "Done.\n"
     ]
    },
    {
     "data": {
      "text/html": [
       "<table>\n",
       "    <tr>\n",
       "        <th>PRINCIPALDEBT</th>\n",
       "        <th>ACCOUNTLIMIT</th>\n",
       "        <th>RATIO</th>\n",
       "    </tr>\n",
       "    <tr>\n",
       "        <td>10000</td>\n",
       "        <td>15000</td>\n",
       "        <td>None</td>\n",
       "    </tr>\n",
       "    <tr>\n",
       "        <td>1000</td>\n",
       "        <td>1500</td>\n",
       "        <td>None</td>\n",
       "    </tr>\n",
       "    <tr>\n",
       "        <td>2000</td>\n",
       "        <td>15000</td>\n",
       "        <td>None</td>\n",
       "    </tr>\n",
       "    <tr>\n",
       "        <td>3500</td>\n",
       "        <td>5000</td>\n",
       "        <td>None</td>\n",
       "    </tr>\n",
       "    <tr>\n",
       "        <td>10000</td>\n",
       "        <td>15000</td>\n",
       "        <td>None</td>\n",
       "    </tr>\n",
       "    <tr>\n",
       "        <td>1000</td>\n",
       "        <td>1500</td>\n",
       "        <td>None</td>\n",
       "    </tr>\n",
       "    <tr>\n",
       "        <td>10000</td>\n",
       "        <td>15000</td>\n",
       "        <td>None</td>\n",
       "    </tr>\n",
       "    <tr>\n",
       "        <td>2400</td>\n",
       "        <td>3600</td>\n",
       "        <td>None</td>\n",
       "    </tr>\n",
       "</table>"
      ],
      "text/plain": [
       "[(10000, 15000, None),\n",
       " (1000, 1500, None),\n",
       " (2000, 15000, None),\n",
       " (3500, 5000, None),\n",
       " (10000, 15000, None),\n",
       " (1000, 1500, None),\n",
       " (10000, 15000, None),\n",
       " (2400, 3600, None)]"
      ]
     },
     "execution_count": 48,
     "metadata": {},
     "output_type": "execute_result"
    }
   ],
   "source": [
    "%%sql\n",
    "SELECT PRINCIPALDEBT, ACCOUNTLIMIT, RATIO FROM Loans;"
   ]
  },
  {
   "cell_type": "code",
   "execution_count": 69,
   "metadata": {
    "collapsed": false
   },
   "outputs": [
    {
     "name": "stdout",
     "output_type": "stream",
     "text": [
      " * sqlite://\n",
      "8 rows affected.\n"
     ]
    },
    {
     "data": {
      "text/plain": [
       "[]"
      ]
     },
     "execution_count": 69,
     "metadata": {},
     "output_type": "execute_result"
    }
   ],
   "source": [
    "%%sql\n",
    "UPDATE Loans SET RATIO = (SELECT CAST(PRINCIPALDEBT AS float) / CAST(ACCOUNTLIMIT AS float));"
   ]
  },
  {
   "cell_type": "code",
   "execution_count": 70,
   "metadata": {
    "collapsed": false
   },
   "outputs": [
    {
     "name": "stdout",
     "output_type": "stream",
     "text": [
      " * sqlite://\n",
      "Done.\n"
     ]
    },
    {
     "data": {
      "text/html": [
       "<table>\n",
       "    <tr>\n",
       "        <th>ACCOUNTNUMBER</th>\n",
       "        <th>CLIENTNUMBER</th>\n",
       "        <th>STARTDATE</th>\n",
       "        <th>STARTMONTH</th>\n",
       "        <th>TERM</th>\n",
       "        <th>REMAINING_TERM</th>\n",
       "        <th>PRINCIPALDEBT</th>\n",
       "        <th>ACCOUNTLIMIT</th>\n",
       "        <th>BALANCE</th>\n",
       "        <th>STATUS</th>\n",
       "        <th>RATIO</th>\n",
       "    </tr>\n",
       "    <tr>\n",
       "        <td>1</td>\n",
       "        <td>1</td>\n",
       "        <td>2017-11-01 10:00:00</td>\n",
       "        <td>201712</td>\n",
       "        <td>36</td>\n",
       "        <td>35</td>\n",
       "        <td>10000</td>\n",
       "        <td>15000</td>\n",
       "        <td>9800</td>\n",
       "        <td>NORMAL</td>\n",
       "        <td>0.666666666666667</td>\n",
       "    </tr>\n",
       "    <tr>\n",
       "        <td>2</td>\n",
       "        <td>2</td>\n",
       "        <td>2018-01-01 10:00:00</td>\n",
       "        <td>201802</td>\n",
       "        <td>24</td>\n",
       "        <td>24</td>\n",
       "        <td>1000</td>\n",
       "        <td>1500</td>\n",
       "        <td>1000</td>\n",
       "        <td>NORMAL</td>\n",
       "        <td>0.666666666666667</td>\n",
       "    </tr>\n",
       "    <tr>\n",
       "        <td>3</td>\n",
       "        <td>1</td>\n",
       "        <td>2016-11-01 10:00:00</td>\n",
       "        <td>201612</td>\n",
       "        <td>12</td>\n",
       "        <td>-3</td>\n",
       "        <td>2000</td>\n",
       "        <td>15000</td>\n",
       "        <td>4985.12</td>\n",
       "        <td>ARREARS</td>\n",
       "        <td>0.133333333333333</td>\n",
       "    </tr>\n",
       "    <tr>\n",
       "        <td>4</td>\n",
       "        <td>3</td>\n",
       "        <td>2018-01-01 10:00:00</td>\n",
       "        <td>201802</td>\n",
       "        <td>24</td>\n",
       "        <td>24</td>\n",
       "        <td>3500</td>\n",
       "        <td>5000</td>\n",
       "        <td>1300</td>\n",
       "        <td>NORMAL</td>\n",
       "        <td>0.7</td>\n",
       "    </tr>\n",
       "    <tr>\n",
       "        <td>5</td>\n",
       "        <td>4</td>\n",
       "        <td>2017-11-01 10:00:00</td>\n",
       "        <td>201712</td>\n",
       "        <td>12</td>\n",
       "        <td>35</td>\n",
       "        <td>10000</td>\n",
       "        <td>15000</td>\n",
       "        <td>0</td>\n",
       "        <td>PAID OFF</td>\n",
       "        <td>0.666666666666667</td>\n",
       "    </tr>\n",
       "    <tr>\n",
       "        <td>6</td>\n",
       "        <td>5</td>\n",
       "        <td>2018-01-01 10:00:00</td>\n",
       "        <td>201802</td>\n",
       "        <td>48</td>\n",
       "        <td>24</td>\n",
       "        <td>1000</td>\n",
       "        <td>1500</td>\n",
       "        <td>0</td>\n",
       "        <td>PAID OFF</td>\n",
       "        <td>0.666666666666667</td>\n",
       "    </tr>\n",
       "    <tr>\n",
       "        <td>7</td>\n",
       "        <td>6</td>\n",
       "        <td>2015-11-01 10:00:00</td>\n",
       "        <td>201512</td>\n",
       "        <td>12</td>\n",
       "        <td>-20</td>\n",
       "        <td>10000</td>\n",
       "        <td>15000</td>\n",
       "        <td>9800</td>\n",
       "        <td>Arrears</td>\n",
       "        <td>0.666666666666667</td>\n",
       "    </tr>\n",
       "    <tr>\n",
       "        <td>7</td>\n",
       "        <td>4</td>\n",
       "        <td>2018-01-01 10:00:00</td>\n",
       "        <td>201802</td>\n",
       "        <td>12</td>\n",
       "        <td>1</td>\n",
       "        <td>2400</td>\n",
       "        <td>3600</td>\n",
       "        <td>130</td>\n",
       "        <td>NORMAL</td>\n",
       "        <td>0.666666666666667</td>\n",
       "    </tr>\n",
       "</table>"
      ],
      "text/plain": [
       "[(1, 1, u'2017-11-01 10:00:00', 201712, 36, 35, 10000, 15000, 9800, u'NORMAL', u'0.666666666666667'),\n",
       " (2, 2, u'2018-01-01 10:00:00', 201802, 24, 24, 1000, 1500, 1000, u'NORMAL', u'0.666666666666667'),\n",
       " (3, 1, u'2016-11-01 10:00:00', 201612, 12, -3, 2000, 15000, 4985.12, u'ARREARS', u'0.133333333333333'),\n",
       " (4, 3, u'2018-01-01 10:00:00', 201802, 24, 24, 3500, 5000, 1300, u'NORMAL', u'0.7'),\n",
       " (5, 4, u'2017-11-01 10:00:00', 201712, 12, 35, 10000, 15000, 0, u'PAID OFF', u'0.666666666666667'),\n",
       " (6, 5, u'2018-01-01 10:00:00', 201802, 48, 24, 1000, 1500, 0, u'PAID OFF', u'0.666666666666667'),\n",
       " (7, 6, u'2015-11-01 10:00:00', 201512, 12, -20, 10000, 15000, 9800, u'Arrears', u'0.666666666666667'),\n",
       " (7, 4, u'2018-01-01 10:00:00', 201802, 12, 1, 2400, 3600, 130, u'NORMAL', u'0.666666666666667')]"
      ]
     },
     "execution_count": 70,
     "metadata": {},
     "output_type": "execute_result"
    }
   ],
   "source": [
    "%%sql\n",
    "SELECT * FROM Loans"
   ]
  },
  {
   "cell_type": "code",
   "execution_count": 76,
   "metadata": {
    "collapsed": false
   },
   "outputs": [
    {
     "name": "stdout",
     "output_type": "stream",
     "text": [
      " * sqlite://\n",
      "Done.\n"
     ]
    },
    {
     "data": {
      "text/html": [
       "<table>\n",
       "    <tr>\n",
       "        <th>ACCOUNTNUMBER</th>\n",
       "        <th>CLIENTNUMBER</th>\n",
       "        <th>STARTDATE</th>\n",
       "        <th>STARTMONTH</th>\n",
       "        <th>TERM</th>\n",
       "        <th>REMAINING_TERM</th>\n",
       "        <th>PRINCIPALDEBT</th>\n",
       "        <th>ACCOUNTLIMIT</th>\n",
       "        <th>BALANCE</th>\n",
       "        <th>STATUS</th>\n",
       "        <th>RATIO</th>\n",
       "        <th>MAX(RATIO)</th>\n",
       "    </tr>\n",
       "    <tr>\n",
       "        <td>4</td>\n",
       "        <td>3</td>\n",
       "        <td>2018-01-01 10:00:00</td>\n",
       "        <td>201802</td>\n",
       "        <td>24</td>\n",
       "        <td>24</td>\n",
       "        <td>3500</td>\n",
       "        <td>5000</td>\n",
       "        <td>1300</td>\n",
       "        <td>NORMAL</td>\n",
       "        <td>0.7</td>\n",
       "        <td>0.7</td>\n",
       "    </tr>\n",
       "</table>"
      ],
      "text/plain": [
       "[(4, 3, u'2018-01-01 10:00:00', 201802, 24, 24, 3500, 5000, 1300, u'NORMAL', u'0.7', u'0.7')]"
      ]
     },
     "execution_count": 76,
     "metadata": {},
     "output_type": "execute_result"
    }
   ],
   "source": [
    "%%sql\n",
    "SELECT *,MAX(RATIO) FROM Loans;"
   ]
  },
  {
   "cell_type": "markdown",
   "metadata": {},
   "source": [
    "# Tasks - vol2"
   ]
  },
  {
   "cell_type": "markdown",
   "metadata": {},
   "source": [
    "Ride-sharing\n",
    "You are the founder of a ride-sharing startup and need to design the initial database.\n",
    "\n",
    "Your startup will be a platform that connects drivers with people who need a lift. You will need to keep track of:\n",
    "\n",
    "the rides taken,\n",
    "billing for riders,\n",
    "monthly payments for drivers.\n",
    "\n",
    "Design all the SQL tables you need to capture the above requirements.\n",
    "Write the CREATE TABLE statements to implement your design.\n",
    "INSERT some example data that you have made up."
   ]
  },
  {
   "cell_type": "code",
   "execution_count": 77,
   "metadata": {
    "collapsed": false
   },
   "outputs": [
    {
     "name": "stdout",
     "output_type": "stream",
     "text": [
      " * sqlite://\n",
      "Done.\n",
      "Done.\n",
      "Done.\n"
     ]
    },
    {
     "data": {
      "text/plain": [
       "[]"
      ]
     },
     "execution_count": 77,
     "metadata": {},
     "output_type": "execute_result"
    }
   ],
   "source": [
    "%%sql\n",
    "\n",
    "PRAGMA foreign_keys = ON; -- activates foreign key features in sqlite. It is disabled by default\n",
    "\n",
    "CREATE TABLE Ride_clients (\n",
    "    CLIENTNUMBER INTEGER PRIMARY KEY, -- needs to be primary key for foriegn_keys to work\n",
    "    FIRSTNAME VARCHAR(20),\n",
    "    SURNAME VARCHAR(20),\n",
    "    EMAIL VARCHAR(100),\n",
    "    PHONE VARCHAR(20)\n",
    ");\n",
    "\n",
    "CREATE TABLE Rides (\n",
    "    CLIENTNUMBER INT, \n",
    "    RIDEFROM VARCHAR(12),\n",
    "    RIDETO VARCHAR(12),\n",
    "    PRICE INT\n",
    "   );\n"
   ]
  },
  {
   "cell_type": "code",
   "execution_count": 78,
   "metadata": {
    "collapsed": false
   },
   "outputs": [
    {
     "name": "stdout",
     "output_type": "stream",
     "text": [
      " * sqlite://\n",
      "1 rows affected.\n",
      "1 rows affected.\n",
      "1 rows affected.\n",
      "1 rows affected.\n",
      "1 rows affected.\n",
      "1 rows affected.\n",
      "1 rows affected.\n",
      "1 rows affected.\n",
      "1 rows affected.\n",
      "1 rows affected.\n",
      "1 rows affected.\n",
      "1 rows affected.\n",
      "1 rows affected.\n",
      "1 rows affected.\n"
     ]
    },
    {
     "data": {
      "text/plain": [
       "[]"
      ]
     },
     "execution_count": 78,
     "metadata": {},
     "output_type": "execute_result"
    }
   ],
   "source": [
    "%%sql\n",
    "INSERT INTO Ride_clients VALUES (1, 'Robert', 'Warren', 'RobertDWarren@teleworm.us', '(251) 546-9442');\n",
    "INSERT INTO Ride_clients VALUES (2, 'Vincent', 'Brown', 'VincentHBrown@rhyta.com', '(125) 546-4478');\n",
    "INSERT INTO Ride_clients VALUES (3, 'Janet', 'Prettyman', 'JanetTPrettyman@teleworm.us', '(949) 569-4371');\n",
    "INSERT INTO Ride_clients VALUES (4, 'Martina', 'Kershner', 'MartinaMKershner@rhyta.com', '(630) 446-8851');\n",
    "INSERT INTO Ride_clients VALUES (5, 'Tony', 'Schroeder', 'TonySSchroeder@teleworm.us', '(226) 906-2721');\n",
    "INSERT INTO Ride_clients VALUES (6, 'Harold', 'Grimes', 'HaroldVGrimes@dayrep.com', '(671) 925-1352');\n",
    "\n",
    "INSERT INTO Rides VALUES (1,'Opole', 'Krakow', 7);\n",
    "INSERT INTO Rides VALUES (2,'Kluczbork', 'Krakow', 7);\n",
    "INSERT INTO Rides VALUES (1,'Kluczbork', 'Warszawa', 7);\n",
    "INSERT INTO Rides VALUES (3,'Poznan', 'Krakow', 7);\n",
    "INSERT INTO Rides VALUES (4,'Kluczbork', 'Krakow', 7);\n",
    "INSERT INTO Rides VALUES (5,'Czestochowa', 'Krakow', 7);\n",
    "INSERT INTO Rides VALUES (6,'Kluczbork', 'Koluszki', 7);\n",
    "INSERT INTO Rides VALUES (4,'Lublin', 'Krakow', 7);"
   ]
  },
  {
   "cell_type": "code",
   "execution_count": 79,
   "metadata": {
    "collapsed": false
   },
   "outputs": [
    {
     "name": "stdout",
     "output_type": "stream",
     "text": [
      " * sqlite://\n",
      "Done.\n"
     ]
    },
    {
     "data": {
      "text/html": [
       "<table>\n",
       "    <tr>\n",
       "        <th>CLIENTNUMBER</th>\n",
       "        <th>FIRSTNAME</th>\n",
       "        <th>SURNAME</th>\n",
       "        <th>EMAIL</th>\n",
       "        <th>PHONE</th>\n",
       "    </tr>\n",
       "    <tr>\n",
       "        <td>1</td>\n",
       "        <td>Robert</td>\n",
       "        <td>Warren</td>\n",
       "        <td>RobertDWarren@teleworm.us</td>\n",
       "        <td>(251) 546-9442</td>\n",
       "    </tr>\n",
       "    <tr>\n",
       "        <td>2</td>\n",
       "        <td>Vincent</td>\n",
       "        <td>Brown</td>\n",
       "        <td>VincentHBrown@rhyta.com</td>\n",
       "        <td>(125) 546-4478</td>\n",
       "    </tr>\n",
       "    <tr>\n",
       "        <td>3</td>\n",
       "        <td>Janet</td>\n",
       "        <td>Prettyman</td>\n",
       "        <td>JanetTPrettyman@teleworm.us</td>\n",
       "        <td>(949) 569-4371</td>\n",
       "    </tr>\n",
       "    <tr>\n",
       "        <td>4</td>\n",
       "        <td>Martina</td>\n",
       "        <td>Kershner</td>\n",
       "        <td>MartinaMKershner@rhyta.com</td>\n",
       "        <td>(630) 446-8851</td>\n",
       "    </tr>\n",
       "    <tr>\n",
       "        <td>5</td>\n",
       "        <td>Tony</td>\n",
       "        <td>Schroeder</td>\n",
       "        <td>TonySSchroeder@teleworm.us</td>\n",
       "        <td>(226) 906-2721</td>\n",
       "    </tr>\n",
       "    <tr>\n",
       "        <td>6</td>\n",
       "        <td>Harold</td>\n",
       "        <td>Grimes</td>\n",
       "        <td>HaroldVGrimes@dayrep.com</td>\n",
       "        <td>(671) 925-1352</td>\n",
       "    </tr>\n",
       "</table>"
      ],
      "text/plain": [
       "[(1, u'Robert', u'Warren', u'RobertDWarren@teleworm.us', u'(251) 546-9442'),\n",
       " (2, u'Vincent', u'Brown', u'VincentHBrown@rhyta.com', u'(125) 546-4478'),\n",
       " (3, u'Janet', u'Prettyman', u'JanetTPrettyman@teleworm.us', u'(949) 569-4371'),\n",
       " (4, u'Martina', u'Kershner', u'MartinaMKershner@rhyta.com', u'(630) 446-8851'),\n",
       " (5, u'Tony', u'Schroeder', u'TonySSchroeder@teleworm.us', u'(226) 906-2721'),\n",
       " (6, u'Harold', u'Grimes', u'HaroldVGrimes@dayrep.com', u'(671) 925-1352')]"
      ]
     },
     "execution_count": 79,
     "metadata": {},
     "output_type": "execute_result"
    }
   ],
   "source": [
    "%%sql\n",
    "SELECT * FROM Ride_clients;"
   ]
  },
  {
   "cell_type": "code",
   "execution_count": 80,
   "metadata": {
    "collapsed": false
   },
   "outputs": [
    {
     "name": "stdout",
     "output_type": "stream",
     "text": [
      " * sqlite://\n",
      "Done.\n"
     ]
    },
    {
     "data": {
      "text/html": [
       "<table>\n",
       "    <tr>\n",
       "        <th>CLIENTNUMBER</th>\n",
       "        <th>RIDEFROM</th>\n",
       "        <th>RIDETO</th>\n",
       "        <th>PRICE</th>\n",
       "    </tr>\n",
       "    <tr>\n",
       "        <td>1</td>\n",
       "        <td>Opole</td>\n",
       "        <td>Krakow</td>\n",
       "        <td>7</td>\n",
       "    </tr>\n",
       "    <tr>\n",
       "        <td>2</td>\n",
       "        <td>Kluczbork</td>\n",
       "        <td>Krakow</td>\n",
       "        <td>7</td>\n",
       "    </tr>\n",
       "    <tr>\n",
       "        <td>1</td>\n",
       "        <td>Kluczbork</td>\n",
       "        <td>Warszawa</td>\n",
       "        <td>7</td>\n",
       "    </tr>\n",
       "    <tr>\n",
       "        <td>3</td>\n",
       "        <td>Poznan</td>\n",
       "        <td>Krakow</td>\n",
       "        <td>7</td>\n",
       "    </tr>\n",
       "    <tr>\n",
       "        <td>4</td>\n",
       "        <td>Kluczbork</td>\n",
       "        <td>Krakow</td>\n",
       "        <td>7</td>\n",
       "    </tr>\n",
       "    <tr>\n",
       "        <td>5</td>\n",
       "        <td>Czestochowa</td>\n",
       "        <td>Krakow</td>\n",
       "        <td>7</td>\n",
       "    </tr>\n",
       "    <tr>\n",
       "        <td>6</td>\n",
       "        <td>Kluczbork</td>\n",
       "        <td>Koluszki</td>\n",
       "        <td>7</td>\n",
       "    </tr>\n",
       "    <tr>\n",
       "        <td>4</td>\n",
       "        <td>Lublin</td>\n",
       "        <td>Krakow</td>\n",
       "        <td>7</td>\n",
       "    </tr>\n",
       "</table>"
      ],
      "text/plain": [
       "[(1, u'Opole', u'Krakow', 7),\n",
       " (2, u'Kluczbork', u'Krakow', 7),\n",
       " (1, u'Kluczbork', u'Warszawa', 7),\n",
       " (3, u'Poznan', u'Krakow', 7),\n",
       " (4, u'Kluczbork', u'Krakow', 7),\n",
       " (5, u'Czestochowa', u'Krakow', 7),\n",
       " (6, u'Kluczbork', u'Koluszki', 7),\n",
       " (4, u'Lublin', u'Krakow', 7)]"
      ]
     },
     "execution_count": 80,
     "metadata": {},
     "output_type": "execute_result"
    }
   ],
   "source": [
    "%%sql\n",
    "SELECT * FROM Rides;"
   ]
  }
 ],
 "metadata": {
  "kernelspec": {
   "display_name": "Python [Root]",
   "language": "python",
   "name": "Python [Root]"
  },
  "language_info": {
   "codemirror_mode": {
    "name": "ipython",
    "version": 2
   },
   "file_extension": ".py",
   "mimetype": "text/x-python",
   "name": "python",
   "nbconvert_exporter": "python",
   "pygments_lexer": "ipython2",
   "version": "2.7.6"
  }
 },
 "nbformat": 4,
 "nbformat_minor": 0
}
