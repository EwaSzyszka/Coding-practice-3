{
 "cells": [
  {
   "cell_type": "markdown",
   "metadata": {},
   "source": [
    "# BASE OBJECT"
   ]
  },
  {
   "cell_type": "code",
   "execution_count": 30,
   "metadata": {
    "collapsed": true
   },
   "outputs": [],
   "source": [
    "class BlankClass(object):\n",
    "    '''This is a Blank class for CS162.'''\n",
    "    pass\n",
    "t = BlankClass()\n",
    "\n",
    "class ClassWithAttr(object):\n",
    "    x1 = 1\n",
    "    x2 = 2\n",
    "\n",
    "my_attr = ClassWithAttr()\n",
    "my_attr.x3 = 3"
   ]
  },
  {
   "cell_type": "code",
   "execution_count": 2,
   "metadata": {
    "collapsed": false
   },
   "outputs": [
    {
     "name": "stdout",
     "output_type": "stream",
     "text": [
      "Help on BlankClass in module __main__ object:\n",
      "\n",
      "class BlankClass(__builtin__.object)\n",
      " |  This is a Blank class for CS162.\n",
      " |  \n",
      " |  Data descriptors defined here:\n",
      " |  \n",
      " |  __dict__\n",
      " |      dictionary for instance variables (if defined)\n",
      " |  \n",
      " |  __weakref__\n",
      " |      list of weak references to the object (if defined)\n",
      "\n"
     ]
    }
   ],
   "source": [
    "help(t)"
   ]
  },
  {
   "cell_type": "code",
   "execution_count": 3,
   "metadata": {
    "collapsed": false
   },
   "outputs": [
    {
     "data": {
      "text/plain": [
       "__main__.BlankClass"
      ]
     },
     "execution_count": 3,
     "metadata": {},
     "output_type": "execute_result"
    }
   ],
   "source": [
    "type(t)"
   ]
  },
  {
   "cell_type": "code",
   "execution_count": 4,
   "metadata": {
    "collapsed": false
   },
   "outputs": [
    {
     "data": {
      "text/plain": [
       "['__class__',\n",
       " '__delattr__',\n",
       " '__dict__',\n",
       " '__doc__',\n",
       " '__format__',\n",
       " '__getattribute__',\n",
       " '__hash__',\n",
       " '__init__',\n",
       " '__module__',\n",
       " '__new__',\n",
       " '__reduce__',\n",
       " '__reduce_ex__',\n",
       " '__repr__',\n",
       " '__setattr__',\n",
       " '__sizeof__',\n",
       " '__str__',\n",
       " '__subclasshook__',\n",
       " '__weakref__']"
      ]
     },
     "execution_count": 4,
     "metadata": {},
     "output_type": "execute_result"
    }
   ],
   "source": [
    "dir(t)"
   ]
  },
  {
   "cell_type": "code",
   "execution_count": 5,
   "metadata": {
    "collapsed": false
   },
   "outputs": [
    {
     "data": {
      "text/plain": [
       "273004977"
      ]
     },
     "execution_count": 5,
     "metadata": {},
     "output_type": "execute_result"
    }
   ],
   "source": [
    "hash(t)"
   ]
  },
  {
   "cell_type": "code",
   "execution_count": 6,
   "metadata": {
    "collapsed": false
   },
   "outputs": [
    {
     "data": {
      "text/plain": [
       "4368079632"
      ]
     },
     "execution_count": 6,
     "metadata": {},
     "output_type": "execute_result"
    }
   ],
   "source": [
    "id(t)"
   ]
  },
  {
   "cell_type": "code",
   "execution_count": 7,
   "metadata": {
    "collapsed": false
   },
   "outputs": [
    {
     "data": {
      "text/plain": [
       "True"
      ]
     },
     "execution_count": 7,
     "metadata": {},
     "output_type": "execute_result"
    }
   ],
   "source": [
    "hasattr(my_attr,'x3')"
   ]
  },
  {
   "cell_type": "code",
   "execution_count": 8,
   "metadata": {
    "collapsed": false
   },
   "outputs": [
    {
     "data": {
      "text/plain": [
       "3"
      ]
     },
     "execution_count": 8,
     "metadata": {},
     "output_type": "execute_result"
    }
   ],
   "source": [
    "getattr(my_attr,'x3')"
   ]
  },
  {
   "cell_type": "code",
   "execution_count": 9,
   "metadata": {
    "collapsed": true
   },
   "outputs": [],
   "source": [
    "delattr(my_attr,'x3')"
   ]
  },
  {
   "cell_type": "code",
   "execution_count": 10,
   "metadata": {
    "collapsed": false
   },
   "outputs": [
    {
     "data": {
      "text/plain": [
       "{}"
      ]
     },
     "execution_count": 10,
     "metadata": {},
     "output_type": "execute_result"
    }
   ],
   "source": [
    "vars(my_attr)"
   ]
  },
  {
   "cell_type": "code",
   "execution_count": 11,
   "metadata": {
    "collapsed": false
   },
   "outputs": [
    {
     "data": {
      "text/plain": [
       "True"
      ]
     },
     "execution_count": 11,
     "metadata": {},
     "output_type": "execute_result"
    }
   ],
   "source": [
    "bool(t)"
   ]
  },
  {
   "cell_type": "markdown",
   "metadata": {},
   "source": [
    "# LOGGING"
   ]
  },
  {
   "cell_type": "code",
   "execution_count": null,
   "metadata": {
    "collapsed": true
   },
   "outputs": [],
   "source": [
    "https://github.com/python/cpython/blob/3.5/Lib/logging/handlers.py"
   ]
  },
  {
   "cell_type": "raw",
   "metadata": {},
   "source": [
    "1.) Build a list of all the classes defined in the logging library, and all the parent classes that it inherits from.\n",
    "2.) Now choose a class that inherits from logging.Handler and list all the methods that one can call on that handler.\n",
    "3.) Find a simple online tutorial on logging in Python and work your way through "
   ]
  },
  {
   "cell_type": "code",
   "execution_count": null,
   "metadata": {
    "collapsed": true
   },
   "outputs": [],
   "source": [
    "List of classes --> that inherit from:\n",
    "    \n",
    "    BaseRotatingHandler --> logging.FileHandler \n",
    "    RotatingFileHandler --> BaseRotatingHandler\n",
    "    TimedRotatingFileHandler --> BaseRotatingHandler\n",
    "    WatchedFileHandler --> logging.FileHandler\n",
    "    SocketHandler --> logging.Handler\n",
    "    DatagramHandler --> SocketHandler\n",
    "    SysLogHandler --> logging.Handler\n",
    "    SMTPHandler --> logging.Handler\n",
    "    NTEventLogHandler --> logging.Handler\n",
    "    HTTPHandler --> logging.Handler\n",
    "    BufferingHandler --> logging.Handler\n",
    "    MemoryHandler --> BufferingHandler\n",
    "    QueueHandler --> logging.Handler\n",
    "    QueueListener --> object"
   ]
  },
  {
   "cell_type": "code",
   "execution_count": null,
   "metadata": {
    "collapsed": true
   },
   "outputs": [],
   "source": [
    "SocketHandler --> logging.Handler\n",
    "    \n",
    "Methods that one can call on that handler:\n",
    "    \n",
    "- makeSocket\n",
    "        \"\"\"\n",
    "        A factory method which allows subclasses to define the precise\n",
    "        type of socket they want.\n",
    "        \"\"\"\n",
    "-  createSocket\n",
    "        \"\"\"\n",
    "        Try to create a socket, using an exponential backoff with\n",
    "        a max retry time. Thanks to Robert Olson for the original patch\n",
    "        (SF #815911) which has been slightly refactored.\n",
    "        \"\"\"\n",
    "- send\n",
    "        \"\"\"\n",
    "        Send a pickled string to the socket.\n",
    "        This function allows for partial sends which can happen when the\n",
    "        network is busy.\n",
    "        \"\"\"\n",
    "- makePickle\n",
    "        \"\"\"\n",
    "        Pickles the record in binary format with a length prefix, and\n",
    "        returns it ready for transmission across the socket.\n",
    "        \"\"\"\n",
    "- handleError\n",
    "        \"\"\"\n",
    "        Handle an error during logging.\n",
    "        An error has occurred during logging. Most likely cause -\n",
    "        connection lost. Close the socket so that we can retry on the\n",
    "        next event.\n",
    "        \"\"\"\n",
    "- emit\n",
    "        \"\"\"\n",
    "        Emit a record.\n",
    "        Pickles the record and writes it to the socket in binary format.\n",
    "        If there is an error with the socket, silently drop the packet.\n",
    "        If there was a problem with the socket, re-establishes the\n",
    "        socket.\n",
    "        \"\"\"\n",
    "- close\n",
    "        \"\"\"\n",
    "        Closes the socket.\n",
    "        \"\"\""
   ]
  },
  {
   "cell_type": "code",
   "execution_count": 29,
   "metadata": {
    "collapsed": false
   },
   "outputs": [
    {
     "name": "stdout",
     "output_type": "stream",
     "text": [
      "30\n"
     ]
    }
   ],
   "source": [
    "import logging\n",
    "\n",
    "#DEBUG\n",
    "#INFO\n",
    "#WARNING\n",
    "#ERROR\n",
    "#CRITICAL\n",
    "\n",
    "\n",
    "#logging.basicConfig(level=logging.DEBUG) #This creates the logg info in console\n",
    "#logging.basicConfig(filename = 'test.log',level=logging.DEBUG) #This creates a new file with the loggs\n",
    "#logging.basicConfig(format = '%(asctime)s:%(levelname)s:%(message)s'filename = 'test.log',level=logging.DEBUG) #Changing the format\n",
    "\n",
    "logger = logging.getLogger()\n",
    "logger.info(\"I am the logger\")\n",
    "\n",
    "print(logger.level) \n",
    "'''\n",
    "0 - NOTSET\n",
    "10 - DEBUG\n",
    "20 - INFO\n",
    "30 - WARNING\n",
    "40 - ERROR\n",
    "50 - CRITICAL\n",
    "\n",
    "'''\n",
    "\n",
    "def add(x,y):\n",
    "    return x+y\n",
    "\n",
    "def subtract (x,y):\n",
    "    return x - y\n",
    "\n",
    "def multiply(x,y):\n",
    "    return x*y\n",
    "\n",
    "def divide(x,y):\n",
    "    return x/y\n",
    "\n",
    "number1 = 1\n",
    "number2 = 3\n",
    "\n",
    "answer1 = add(number1, number2)\n",
    "logging.warning(\"{} + {} = {} \".format(number1, number2,answer1))"
   ]
  },
  {
   "cell_type": "code",
   "execution_count": 23,
   "metadata": {
    "collapsed": false
   },
   "outputs": [
    {
     "data": {
      "text/plain": [
       "['BASIC_FORMAT',\n",
       " 'BufferingFormatter',\n",
       " 'CRITICAL',\n",
       " 'DEBUG',\n",
       " 'ERROR',\n",
       " 'FATAL',\n",
       " 'FileHandler',\n",
       " 'Filter',\n",
       " 'Filterer',\n",
       " 'Formatter',\n",
       " 'Handler',\n",
       " 'INFO',\n",
       " 'LogRecord',\n",
       " 'Logger',\n",
       " 'LoggerAdapter',\n",
       " 'Manager',\n",
       " 'NOTSET',\n",
       " 'NullHandler',\n",
       " 'PlaceHolder',\n",
       " 'RootLogger',\n",
       " 'StreamHandler',\n",
       " 'WARN',\n",
       " 'WARNING',\n",
       " '__all__',\n",
       " '__author__',\n",
       " '__builtins__',\n",
       " '__date__',\n",
       " '__doc__',\n",
       " '__file__',\n",
       " '__name__',\n",
       " '__package__',\n",
       " '__path__',\n",
       " '__status__',\n",
       " '__version__',\n",
       " '_acquireLock',\n",
       " '_addHandlerRef',\n",
       " '_checkLevel',\n",
       " '_defaultFormatter',\n",
       " '_handlerList',\n",
       " '_handlers',\n",
       " '_levelNames',\n",
       " '_lock',\n",
       " '_loggerClass',\n",
       " '_releaseLock',\n",
       " '_removeHandlerRef',\n",
       " '_showwarning',\n",
       " '_srcfile',\n",
       " '_startTime',\n",
       " '_unicode',\n",
       " '_warnings_showwarning',\n",
       " 'addLevelName',\n",
       " 'atexit',\n",
       " 'basicConfig',\n",
       " 'cStringIO',\n",
       " 'captureWarnings',\n",
       " 'codecs',\n",
       " 'critical',\n",
       " 'currentframe',\n",
       " 'debug',\n",
       " 'disable',\n",
       " 'error',\n",
       " 'exception',\n",
       " 'fatal',\n",
       " 'getLevelName',\n",
       " 'getLogger',\n",
       " 'getLoggerClass',\n",
       " 'handlers',\n",
       " 'info',\n",
       " 'log',\n",
       " 'logMultiprocessing',\n",
       " 'logProcesses',\n",
       " 'logThreads',\n",
       " 'makeLogRecord',\n",
       " 'os',\n",
       " 'raiseExceptions',\n",
       " 'root',\n",
       " 'setLoggerClass',\n",
       " 'shutdown',\n",
       " 'sys',\n",
       " 'thread',\n",
       " 'threading',\n",
       " 'time',\n",
       " 'traceback',\n",
       " 'warn',\n",
       " 'warning',\n",
       " 'warnings',\n",
       " 'weakref']"
      ]
     },
     "execution_count": 23,
     "metadata": {},
     "output_type": "execute_result"
    }
   ],
   "source": [
    "dir(logging)"
   ]
  },
  {
   "cell_type": "markdown",
   "metadata": {},
   "source": [
    "# POLYMORPHISM"
   ]
  },
  {
   "cell_type": "markdown",
   "metadata": {},
   "source": [
    "Polymorphism and Method Overriding. In literal sense, Polymorphism means the ability to take various forms. In Python, Polymorphism allows us to define methods in the child class with the same name as defined in their parent class. As we know, a child class inherits all the methods from the parent class."
   ]
  },
  {
   "cell_type": "code",
   "execution_count": null,
   "metadata": {
    "collapsed": true
   },
   "outputs": [],
   "source": [
    "https://www.digitalocean.com/community/tutorials/how-to-apply-polymorphism-to-classes-in-python-3"
   ]
  }
 ],
 "metadata": {
  "kernelspec": {
   "display_name": "Python [Root]",
   "language": "python",
   "name": "Python [Root]"
  },
  "language_info": {
   "codemirror_mode": {
    "name": "ipython",
    "version": 2
   },
   "file_extension": ".py",
   "mimetype": "text/x-python",
   "name": "python",
   "nbconvert_exporter": "python",
   "pygments_lexer": "ipython2",
   "version": "2.7.6"
  }
 },
 "nbformat": 4,
 "nbformat_minor": 0
}
