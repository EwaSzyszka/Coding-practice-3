{
 "cells": [
  {
   "cell_type": "code",
   "execution_count": 1,
   "metadata": {
    "collapsed": false
   },
   "outputs": [],
   "source": [
    "%load_ext sql"
   ]
  },
  {
   "cell_type": "code",
   "execution_count": 2,
   "metadata": {
    "collapsed": false,
    "scrolled": true
   },
   "outputs": [
    {
     "data": {
      "text/plain": [
       "'Connected: @None'"
      ]
     },
     "execution_count": 2,
     "metadata": {},
     "output_type": "execute_result"
    }
   ],
   "source": [
    "%sql sqlite://"
   ]
  },
  {
   "cell_type": "code",
   "execution_count": null,
   "metadata": {
    "collapsed": true
   },
   "outputs": [],
   "source": [
    "#Creating the housing listing"
   ]
  },
  {
   "cell_type": "code",
   "execution_count": 3,
   "metadata": {
    "collapsed": false,
    "scrolled": true
   },
   "outputs": [
    {
     "name": "stdout",
     "output_type": "stream",
     "text": [
      " * sqlite://\n",
      "Done.\n"
     ]
    },
    {
     "data": {
      "text/plain": [
       "[]"
      ]
     },
     "execution_count": 3,
     "metadata": {},
     "output_type": "execute_result"
    }
   ],
   "source": [
    "%%sql\n",
    "\n",
    "CREATE TABLE housing_listing (\n",
    "    transaction_id INT PRIMARY KEY,\n",
    "    number_of_bedrooms INT,\n",
    "    number_of_bathrooms INT,\n",
    "    listing_price INT,\n",
    "    listing_agent TEXT,\n",
    "    agent_email TEXT,\n",
    "    listing_office TEXT,\n",
    "    date_of_listing DATETIME,\n",
    "    zip_code INT,\n",
    "    sold BOOL,\n",
    "    Commission INT\n",
    ");"
   ]
  },
  {
   "cell_type": "code",
   "execution_count": null,
   "metadata": {
    "collapsed": true
   },
   "outputs": [],
   "source": [
    "#Inserting the data to the table"
   ]
  },
  {
   "cell_type": "code",
   "execution_count": 4,
   "metadata": {
    "collapsed": false,
    "scrolled": true
   },
   "outputs": [
    {
     "name": "stdout",
     "output_type": "stream",
     "text": [
      " * sqlite://\n",
      "1 rows affected.\n",
      "1 rows affected.\n",
      "1 rows affected.\n",
      "1 rows affected.\n",
      "1 rows affected.\n",
      "1 rows affected.\n"
     ]
    },
    {
     "data": {
      "text/plain": [
       "[]"
      ]
     },
     "execution_count": 4,
     "metadata": {},
     "output_type": "execute_result"
    }
   ],
   "source": [
    "%%sql \n",
    "INSERT INTO housing_listing VALUES (1, 3, 2, 2000000, 'Tom','Tom@fadu.ar', 'FADU','2012/02/27',45049, 'FALSE',0);\n",
    "INSERT INTO housing_listing VALUES (2, 2, 1, 3000, 'Tom','Tom@fadu.ar', 'FADU','2011/06/27',45049,'FALSE',0);\n",
    "INSERT INTO housing_listing VALUES (3, 1, 1, 40000, 'Tom','Tom@fadu.ar', 'FADU','2008/08/03',45049, 'FALSE',0);\n",
    "INSERT INTO housing_listing VALUES (4, 1, 2, 5000000, 'Tom','Tom@fadu.ar', 'FADU','2012/12/27',45049, 'FALSE',0);\n",
    "INSERT INTO housing_listing VALUES (5, 2, 1, 20000, 'Tom', 'Tom@fadu.ar','FADU','2001/02/17',45049, 'FALSE',0);\n",
    "INSERT INTO housing_listing VALUES (6, 3, 1, 3000, 'Tom','Tom@fadu.ar', 'FADU','2019/02/01',45049,'FALSE',0);"
   ]
  },
  {
   "cell_type": "code",
   "execution_count": 5,
   "metadata": {
    "collapsed": false
   },
   "outputs": [
    {
     "name": "stdout",
     "output_type": "stream",
     "text": [
      " * sqlite://\n",
      "Done.\n"
     ]
    },
    {
     "data": {
      "text/html": [
       "<table>\n",
       "    <tr>\n",
       "        <th>transaction_id</th>\n",
       "        <th>number_of_bedrooms</th>\n",
       "        <th>number_of_bathrooms</th>\n",
       "        <th>listing_price</th>\n",
       "        <th>listing_agent</th>\n",
       "        <th>agent_email</th>\n",
       "        <th>listing_office</th>\n",
       "        <th>date_of_listing</th>\n",
       "        <th>zip_code</th>\n",
       "        <th>sold</th>\n",
       "        <th>Commission</th>\n",
       "    </tr>\n",
       "    <tr>\n",
       "        <td>1</td>\n",
       "        <td>3</td>\n",
       "        <td>2</td>\n",
       "        <td>2000000</td>\n",
       "        <td>Tom</td>\n",
       "        <td>Tom@fadu.ar</td>\n",
       "        <td>FADU</td>\n",
       "        <td>2012/02/27</td>\n",
       "        <td>45049</td>\n",
       "        <td>FALSE</td>\n",
       "        <td>0</td>\n",
       "    </tr>\n",
       "    <tr>\n",
       "        <td>2</td>\n",
       "        <td>2</td>\n",
       "        <td>1</td>\n",
       "        <td>3000</td>\n",
       "        <td>Tom</td>\n",
       "        <td>Tom@fadu.ar</td>\n",
       "        <td>FADU</td>\n",
       "        <td>2011/06/27</td>\n",
       "        <td>45049</td>\n",
       "        <td>FALSE</td>\n",
       "        <td>0</td>\n",
       "    </tr>\n",
       "    <tr>\n",
       "        <td>3</td>\n",
       "        <td>1</td>\n",
       "        <td>1</td>\n",
       "        <td>40000</td>\n",
       "        <td>Tom</td>\n",
       "        <td>Tom@fadu.ar</td>\n",
       "        <td>FADU</td>\n",
       "        <td>2008/08/03</td>\n",
       "        <td>45049</td>\n",
       "        <td>FALSE</td>\n",
       "        <td>0</td>\n",
       "    </tr>\n",
       "    <tr>\n",
       "        <td>4</td>\n",
       "        <td>1</td>\n",
       "        <td>2</td>\n",
       "        <td>5000000</td>\n",
       "        <td>Tom</td>\n",
       "        <td>Tom@fadu.ar</td>\n",
       "        <td>FADU</td>\n",
       "        <td>2012/12/27</td>\n",
       "        <td>45049</td>\n",
       "        <td>FALSE</td>\n",
       "        <td>0</td>\n",
       "    </tr>\n",
       "    <tr>\n",
       "        <td>5</td>\n",
       "        <td>2</td>\n",
       "        <td>1</td>\n",
       "        <td>20000</td>\n",
       "        <td>Tom</td>\n",
       "        <td>Tom@fadu.ar</td>\n",
       "        <td>FADU</td>\n",
       "        <td>2001/02/17</td>\n",
       "        <td>45049</td>\n",
       "        <td>FALSE</td>\n",
       "        <td>0</td>\n",
       "    </tr>\n",
       "    <tr>\n",
       "        <td>6</td>\n",
       "        <td>3</td>\n",
       "        <td>1</td>\n",
       "        <td>3000</td>\n",
       "        <td>Tom</td>\n",
       "        <td>Tom@fadu.ar</td>\n",
       "        <td>FADU</td>\n",
       "        <td>2019/02/01</td>\n",
       "        <td>45049</td>\n",
       "        <td>FALSE</td>\n",
       "        <td>0</td>\n",
       "    </tr>\n",
       "</table>"
      ],
      "text/plain": [
       "[(1, 3, 2, 2000000, u'Tom', u'Tom@fadu.ar', u'FADU', u'2012/02/27', 45049, u'FALSE', 0),\n",
       " (2, 2, 1, 3000, u'Tom', u'Tom@fadu.ar', u'FADU', u'2011/06/27', 45049, u'FALSE', 0),\n",
       " (3, 1, 1, 40000, u'Tom', u'Tom@fadu.ar', u'FADU', u'2008/08/03', 45049, u'FALSE', 0),\n",
       " (4, 1, 2, 5000000, u'Tom', u'Tom@fadu.ar', u'FADU', u'2012/12/27', 45049, u'FALSE', 0),\n",
       " (5, 2, 1, 20000, u'Tom', u'Tom@fadu.ar', u'FADU', u'2001/02/17', 45049, u'FALSE', 0),\n",
       " (6, 3, 1, 3000, u'Tom', u'Tom@fadu.ar', u'FADU', u'2019/02/01', 45049, u'FALSE', 0)]"
      ]
     },
     "execution_count": 5,
     "metadata": {},
     "output_type": "execute_result"
    }
   ],
   "source": [
    "%%sql \n",
    "SELECT * FROM housing_listing"
   ]
  },
  {
   "cell_type": "code",
   "execution_count": null,
   "metadata": {
    "collapsed": true
   },
   "outputs": [],
   "source": [
    "#Calculating the commission and updating the table"
   ]
  },
  {
   "cell_type": "code",
   "execution_count": 6,
   "metadata": {
    "collapsed": false
   },
   "outputs": [
    {
     "name": "stdout",
     "output_type": "stream",
     "text": [
      " * sqlite://\n",
      "6 rows affected.\n"
     ]
    },
    {
     "data": {
      "text/plain": [
       "[]"
      ]
     },
     "execution_count": 6,
     "metadata": {},
     "output_type": "execute_result"
    }
   ],
   "source": [
    "%%sql\n",
    "\n",
    "UPDATE housing_listing \n",
    "SET     Commission =  CASE  \n",
    "                 WHEN listing_price < 100000 THEN listing_price * 1.1\n",
    "                 WHEN listing_price > 100000 AND listing_price < 200000 THEN listing_price * 1.75\n",
    "                 WHEN listing_price > 200000 AND listing_price < 500000 THEN listing_price * 1.6\n",
    "                 WHEN listing_price > 500000 AND listing_price < 1000000 THEN listing_price * 1.5\n",
    "                 WHEN listing_price > 1000000 THEN listing_price * 1.4\n",
    "                    END      "
   ]
  },
  {
   "cell_type": "code",
   "execution_count": 7,
   "metadata": {
    "collapsed": false
   },
   "outputs": [
    {
     "name": "stdout",
     "output_type": "stream",
     "text": [
      " * sqlite://\n",
      "Done.\n"
     ]
    },
    {
     "data": {
      "text/html": [
       "<table>\n",
       "    <tr>\n",
       "        <th>transaction_id</th>\n",
       "        <th>number_of_bedrooms</th>\n",
       "        <th>number_of_bathrooms</th>\n",
       "        <th>listing_price</th>\n",
       "        <th>listing_agent</th>\n",
       "        <th>agent_email</th>\n",
       "        <th>listing_office</th>\n",
       "        <th>date_of_listing</th>\n",
       "        <th>zip_code</th>\n",
       "        <th>sold</th>\n",
       "        <th>Commission</th>\n",
       "    </tr>\n",
       "    <tr>\n",
       "        <td>1</td>\n",
       "        <td>3</td>\n",
       "        <td>2</td>\n",
       "        <td>2000000</td>\n",
       "        <td>Tom</td>\n",
       "        <td>Tom@fadu.ar</td>\n",
       "        <td>FADU</td>\n",
       "        <td>2012/02/27</td>\n",
       "        <td>45049</td>\n",
       "        <td>FALSE</td>\n",
       "        <td>2800000</td>\n",
       "    </tr>\n",
       "    <tr>\n",
       "        <td>2</td>\n",
       "        <td>2</td>\n",
       "        <td>1</td>\n",
       "        <td>3000</td>\n",
       "        <td>Tom</td>\n",
       "        <td>Tom@fadu.ar</td>\n",
       "        <td>FADU</td>\n",
       "        <td>2011/06/27</td>\n",
       "        <td>45049</td>\n",
       "        <td>FALSE</td>\n",
       "        <td>3300.0</td>\n",
       "    </tr>\n",
       "    <tr>\n",
       "        <td>3</td>\n",
       "        <td>1</td>\n",
       "        <td>1</td>\n",
       "        <td>40000</td>\n",
       "        <td>Tom</td>\n",
       "        <td>Tom@fadu.ar</td>\n",
       "        <td>FADU</td>\n",
       "        <td>2008/08/03</td>\n",
       "        <td>45049</td>\n",
       "        <td>FALSE</td>\n",
       "        <td>44000</td>\n",
       "    </tr>\n",
       "    <tr>\n",
       "        <td>4</td>\n",
       "        <td>1</td>\n",
       "        <td>2</td>\n",
       "        <td>5000000</td>\n",
       "        <td>Tom</td>\n",
       "        <td>Tom@fadu.ar</td>\n",
       "        <td>FADU</td>\n",
       "        <td>2012/12/27</td>\n",
       "        <td>45049</td>\n",
       "        <td>FALSE</td>\n",
       "        <td>7000000</td>\n",
       "    </tr>\n",
       "    <tr>\n",
       "        <td>5</td>\n",
       "        <td>2</td>\n",
       "        <td>1</td>\n",
       "        <td>20000</td>\n",
       "        <td>Tom</td>\n",
       "        <td>Tom@fadu.ar</td>\n",
       "        <td>FADU</td>\n",
       "        <td>2001/02/17</td>\n",
       "        <td>45049</td>\n",
       "        <td>FALSE</td>\n",
       "        <td>22000</td>\n",
       "    </tr>\n",
       "    <tr>\n",
       "        <td>6</td>\n",
       "        <td>3</td>\n",
       "        <td>1</td>\n",
       "        <td>3000</td>\n",
       "        <td>Tom</td>\n",
       "        <td>Tom@fadu.ar</td>\n",
       "        <td>FADU</td>\n",
       "        <td>2019/02/01</td>\n",
       "        <td>45049</td>\n",
       "        <td>FALSE</td>\n",
       "        <td>3300.0</td>\n",
       "    </tr>\n",
       "</table>"
      ],
      "text/plain": [
       "[(1, 3, 2, 2000000, u'Tom', u'Tom@fadu.ar', u'FADU', u'2012/02/27', 45049, u'FALSE', 2800000),\n",
       " (2, 2, 1, 3000, u'Tom', u'Tom@fadu.ar', u'FADU', u'2011/06/27', 45049, u'FALSE', 3300.0000000000005),\n",
       " (3, 1, 1, 40000, u'Tom', u'Tom@fadu.ar', u'FADU', u'2008/08/03', 45049, u'FALSE', 44000),\n",
       " (4, 1, 2, 5000000, u'Tom', u'Tom@fadu.ar', u'FADU', u'2012/12/27', 45049, u'FALSE', 7000000),\n",
       " (5, 2, 1, 20000, u'Tom', u'Tom@fadu.ar', u'FADU', u'2001/02/17', 45049, u'FALSE', 22000),\n",
       " (6, 3, 1, 3000, u'Tom', u'Tom@fadu.ar', u'FADU', u'2019/02/01', 45049, u'FALSE', 3300.0000000000005)]"
      ]
     },
     "execution_count": 7,
     "metadata": {},
     "output_type": "execute_result"
    }
   ],
   "source": [
    "%%sql \n",
    "SELECT * FROM housing_listing"
   ]
  },
  {
   "cell_type": "code",
   "execution_count": null,
   "metadata": {
    "collapsed": true
   },
   "outputs": [],
   "source": [
    "#The customer data captured in BUYER table"
   ]
  },
  {
   "cell_type": "code",
   "execution_count": 8,
   "metadata": {
    "collapsed": false,
    "scrolled": false
   },
   "outputs": [
    {
     "name": "stdout",
     "output_type": "stream",
     "text": [
      " * sqlite://\n",
      "Done.\n"
     ]
    },
    {
     "data": {
      "text/plain": [
       "[]"
      ]
     },
     "execution_count": 8,
     "metadata": {},
     "output_type": "execute_result"
    }
   ],
   "source": [
    "%%sql\n",
    "\n",
    "CREATE TABLE buyer (\n",
    "    transaction_id INT PRIMARY KEY,\n",
    "    buyer_name TEXT,\n",
    "    buyer_id INT,\n",
    "    sale_price INT,\n",
    "    date_of_sale DATETIME,\n",
    "    selling_agent TEXT\n",
    ")"
   ]
  },
  {
   "cell_type": "code",
   "execution_count": 9,
   "metadata": {
    "collapsed": false
   },
   "outputs": [
    {
     "name": "stdout",
     "output_type": "stream",
     "text": [
      " * sqlite://\n",
      "1 rows affected.\n",
      "1 rows affected.\n",
      "1 rows affected.\n",
      "1 rows affected.\n",
      "1 rows affected.\n",
      "1 rows affected.\n",
      "1 rows affected.\n"
     ]
    },
    {
     "data": {
      "text/plain": [
       "[]"
      ]
     },
     "execution_count": 9,
     "metadata": {},
     "output_type": "execute_result"
    }
   ],
   "source": [
    "%%sql \n",
    "INSERT INTO buyer VALUES (1, \"Ania Kraszka\", 1, 2000000,'2020/02/27','FADU');\n",
    "INSERT INTO buyer VALUES (2, \"Ania Kraszka\", 2, 2000000,'2011/02/27','FADU');\n",
    "INSERT INTO buyer VALUES (3, \"Max Planck\", 3, 2000000,'2018/11/17','UBA');\n",
    "INSERT INTO buyer VALUES (4, \"Adolf Pitler\", 4, 22630000,'2000/02/27','FADU');\n",
    "INSERT INTO buyer VALUES (5, \"Lazy Joe\", 5, 200009,'2005/12/29','HANYANG');\n",
    "INSERT INTO buyer VALUES (6, \"Mr Angry\", 6, 2000000,'2013/02/27','UTN');\n",
    "INSERT INTO buyer VALUES (7, \"Stahursky\", 7, 2000000,'2011/03/27','UBA');"
   ]
  },
  {
   "cell_type": "code",
   "execution_count": 10,
   "metadata": {
    "collapsed": false
   },
   "outputs": [
    {
     "name": "stdout",
     "output_type": "stream",
     "text": [
      " * sqlite://\n",
      "Done.\n"
     ]
    },
    {
     "data": {
      "text/html": [
       "<table>\n",
       "    <tr>\n",
       "        <th>transaction_id</th>\n",
       "        <th>buyer_name</th>\n",
       "        <th>buyer_id</th>\n",
       "        <th>sale_price</th>\n",
       "        <th>date_of_sale</th>\n",
       "        <th>selling_agent</th>\n",
       "    </tr>\n",
       "    <tr>\n",
       "        <td>1</td>\n",
       "        <td>Ania Kraszka</td>\n",
       "        <td>1</td>\n",
       "        <td>2000000</td>\n",
       "        <td>2020/02/27</td>\n",
       "        <td>FADU</td>\n",
       "    </tr>\n",
       "    <tr>\n",
       "        <td>2</td>\n",
       "        <td>Ania Kraszka</td>\n",
       "        <td>2</td>\n",
       "        <td>2000000</td>\n",
       "        <td>2011/02/27</td>\n",
       "        <td>FADU</td>\n",
       "    </tr>\n",
       "    <tr>\n",
       "        <td>3</td>\n",
       "        <td>Max Planck</td>\n",
       "        <td>3</td>\n",
       "        <td>2000000</td>\n",
       "        <td>2018/11/17</td>\n",
       "        <td>UBA</td>\n",
       "    </tr>\n",
       "    <tr>\n",
       "        <td>4</td>\n",
       "        <td>Adolf Pitler</td>\n",
       "        <td>4</td>\n",
       "        <td>22630000</td>\n",
       "        <td>2000/02/27</td>\n",
       "        <td>FADU</td>\n",
       "    </tr>\n",
       "    <tr>\n",
       "        <td>5</td>\n",
       "        <td>Lazy Joe</td>\n",
       "        <td>5</td>\n",
       "        <td>200009</td>\n",
       "        <td>2005/12/29</td>\n",
       "        <td>HANYANG</td>\n",
       "    </tr>\n",
       "    <tr>\n",
       "        <td>6</td>\n",
       "        <td>Mr Angry</td>\n",
       "        <td>6</td>\n",
       "        <td>2000000</td>\n",
       "        <td>2013/02/27</td>\n",
       "        <td>UTN</td>\n",
       "    </tr>\n",
       "    <tr>\n",
       "        <td>7</td>\n",
       "        <td>Stahursky</td>\n",
       "        <td>7</td>\n",
       "        <td>2000000</td>\n",
       "        <td>2011/03/27</td>\n",
       "        <td>UBA</td>\n",
       "    </tr>\n",
       "</table>"
      ],
      "text/plain": [
       "[(1, u'Ania Kraszka', 1, 2000000, u'2020/02/27', u'FADU'),\n",
       " (2, u'Ania Kraszka', 2, 2000000, u'2011/02/27', u'FADU'),\n",
       " (3, u'Max Planck', 3, 2000000, u'2018/11/17', u'UBA'),\n",
       " (4, u'Adolf Pitler', 4, 22630000, u'2000/02/27', u'FADU'),\n",
       " (5, u'Lazy Joe', 5, 200009, u'2005/12/29', u'HANYANG'),\n",
       " (6, u'Mr Angry', 6, 2000000, u'2013/02/27', u'UTN'),\n",
       " (7, u'Stahursky', 7, 2000000, u'2011/03/27', u'UBA')]"
      ]
     },
     "execution_count": 10,
     "metadata": {},
     "output_type": "execute_result"
    }
   ],
   "source": [
    "%%sql\n",
    "SELECT * FROM buyer"
   ]
  },
  {
   "cell_type": "code",
   "execution_count": null,
   "metadata": {
    "collapsed": true
   },
   "outputs": [],
   "source": [
    "#Updating the initial listing to SOLD"
   ]
  },
  {
   "cell_type": "code",
   "execution_count": 11,
   "metadata": {
    "collapsed": false
   },
   "outputs": [
    {
     "name": "stdout",
     "output_type": "stream",
     "text": [
      " * sqlite://\n",
      "1 rows affected.\n"
     ]
    },
    {
     "data": {
      "text/plain": [
       "[]"
      ]
     },
     "execution_count": 11,
     "metadata": {},
     "output_type": "execute_result"
    }
   ],
   "source": [
    "%%sql\n",
    "UPDATE housing_listing\n",
    "SET sold = \"TRUE\"\n",
    "WHERE transaction_id = 1"
   ]
  },
  {
   "cell_type": "code",
   "execution_count": 12,
   "metadata": {
    "collapsed": false,
    "scrolled": false
   },
   "outputs": [
    {
     "name": "stdout",
     "output_type": "stream",
     "text": [
      " * sqlite://\n",
      "Done.\n"
     ]
    },
    {
     "data": {
      "text/html": [
       "<table>\n",
       "    <tr>\n",
       "        <th>transaction_id</th>\n",
       "        <th>number_of_bedrooms</th>\n",
       "        <th>number_of_bathrooms</th>\n",
       "        <th>listing_price</th>\n",
       "        <th>listing_agent</th>\n",
       "        <th>agent_email</th>\n",
       "        <th>listing_office</th>\n",
       "        <th>date_of_listing</th>\n",
       "        <th>zip_code</th>\n",
       "        <th>sold</th>\n",
       "        <th>Commission</th>\n",
       "    </tr>\n",
       "    <tr>\n",
       "        <td>1</td>\n",
       "        <td>3</td>\n",
       "        <td>2</td>\n",
       "        <td>2000000</td>\n",
       "        <td>Tom</td>\n",
       "        <td>Tom@fadu.ar</td>\n",
       "        <td>FADU</td>\n",
       "        <td>2012/02/27</td>\n",
       "        <td>45049</td>\n",
       "        <td>TRUE</td>\n",
       "        <td>2800000</td>\n",
       "    </tr>\n",
       "    <tr>\n",
       "        <td>2</td>\n",
       "        <td>2</td>\n",
       "        <td>1</td>\n",
       "        <td>3000</td>\n",
       "        <td>Tom</td>\n",
       "        <td>Tom@fadu.ar</td>\n",
       "        <td>FADU</td>\n",
       "        <td>2011/06/27</td>\n",
       "        <td>45049</td>\n",
       "        <td>FALSE</td>\n",
       "        <td>3300.0</td>\n",
       "    </tr>\n",
       "    <tr>\n",
       "        <td>3</td>\n",
       "        <td>1</td>\n",
       "        <td>1</td>\n",
       "        <td>40000</td>\n",
       "        <td>Tom</td>\n",
       "        <td>Tom@fadu.ar</td>\n",
       "        <td>FADU</td>\n",
       "        <td>2008/08/03</td>\n",
       "        <td>45049</td>\n",
       "        <td>FALSE</td>\n",
       "        <td>44000</td>\n",
       "    </tr>\n",
       "    <tr>\n",
       "        <td>4</td>\n",
       "        <td>1</td>\n",
       "        <td>2</td>\n",
       "        <td>5000000</td>\n",
       "        <td>Tom</td>\n",
       "        <td>Tom@fadu.ar</td>\n",
       "        <td>FADU</td>\n",
       "        <td>2012/12/27</td>\n",
       "        <td>45049</td>\n",
       "        <td>FALSE</td>\n",
       "        <td>7000000</td>\n",
       "    </tr>\n",
       "    <tr>\n",
       "        <td>5</td>\n",
       "        <td>2</td>\n",
       "        <td>1</td>\n",
       "        <td>20000</td>\n",
       "        <td>Tom</td>\n",
       "        <td>Tom@fadu.ar</td>\n",
       "        <td>FADU</td>\n",
       "        <td>2001/02/17</td>\n",
       "        <td>45049</td>\n",
       "        <td>FALSE</td>\n",
       "        <td>22000</td>\n",
       "    </tr>\n",
       "    <tr>\n",
       "        <td>6</td>\n",
       "        <td>3</td>\n",
       "        <td>1</td>\n",
       "        <td>3000</td>\n",
       "        <td>Tom</td>\n",
       "        <td>Tom@fadu.ar</td>\n",
       "        <td>FADU</td>\n",
       "        <td>2019/02/01</td>\n",
       "        <td>45049</td>\n",
       "        <td>FALSE</td>\n",
       "        <td>3300.0</td>\n",
       "    </tr>\n",
       "</table>"
      ],
      "text/plain": [
       "[(1, 3, 2, 2000000, u'Tom', u'Tom@fadu.ar', u'FADU', u'2012/02/27', 45049, u'TRUE', 2800000),\n",
       " (2, 2, 1, 3000, u'Tom', u'Tom@fadu.ar', u'FADU', u'2011/06/27', 45049, u'FALSE', 3300.0000000000005),\n",
       " (3, 1, 1, 40000, u'Tom', u'Tom@fadu.ar', u'FADU', u'2008/08/03', 45049, u'FALSE', 44000),\n",
       " (4, 1, 2, 5000000, u'Tom', u'Tom@fadu.ar', u'FADU', u'2012/12/27', 45049, u'FALSE', 7000000),\n",
       " (5, 2, 1, 20000, u'Tom', u'Tom@fadu.ar', u'FADU', u'2001/02/17', 45049, u'FALSE', 22000),\n",
       " (6, 3, 1, 3000, u'Tom', u'Tom@fadu.ar', u'FADU', u'2019/02/01', 45049, u'FALSE', 3300.0000000000005)]"
      ]
     },
     "execution_count": 12,
     "metadata": {},
     "output_type": "execute_result"
    }
   ],
   "source": [
    "%%sql \n",
    "SELECT * FROM housing_listing"
   ]
  },
  {
   "cell_type": "code",
   "execution_count": null,
   "metadata": {
    "collapsed": true
   },
   "outputs": [],
   "source": [
    "#Adding more data for the Querying data and analytics section "
   ]
  },
  {
   "cell_type": "code",
   "execution_count": 13,
   "metadata": {
    "collapsed": false,
    "scrolled": true
   },
   "outputs": [
    {
     "name": "stdout",
     "output_type": "stream",
     "text": [
      " * sqlite://\n",
      "1 rows affected.\n",
      "1 rows affected.\n",
      "1 rows affected.\n",
      "1 rows affected.\n",
      "1 rows affected.\n",
      "1 rows affected.\n",
      "1 rows affected.\n",
      "1 rows affected.\n",
      "1 rows affected.\n",
      "1 rows affected.\n",
      "1 rows affected.\n",
      "1 rows affected.\n",
      "1 rows affected.\n",
      "1 rows affected.\n",
      "1 rows affected.\n",
      "1 rows affected.\n",
      "1 rows affected.\n",
      "1 rows affected.\n",
      "1 rows affected.\n",
      "1 rows affected.\n",
      "1 rows affected.\n",
      "1 rows affected.\n",
      "1 rows affected.\n",
      "1 rows affected.\n",
      "1 rows affected.\n",
      "1 rows affected.\n",
      "1 rows affected.\n",
      "1 rows affected.\n",
      "1 rows affected.\n",
      "1 rows affected.\n",
      "1 rows affected.\n",
      "1 rows affected.\n",
      "1 rows affected.\n",
      "1 rows affected.\n",
      "1 rows affected.\n",
      "1 rows affected.\n",
      "1 rows affected.\n",
      "1 rows affected.\n",
      "1 rows affected.\n",
      "1 rows affected.\n"
     ]
    },
    {
     "data": {
      "text/plain": [
       "[]"
      ]
     },
     "execution_count": 13,
     "metadata": {},
     "output_type": "execute_result"
    }
   ],
   "source": [
    "%%sql \n",
    "INSERT INTO housing_listing VALUES (7, 3, 2, 2000000, 'Liza','liza@uba.ar', 'UBA','2018/02/27',45049, 'FALSE',0);\n",
    "INSERT INTO housing_listing VALUES (8, 2, 1, 3000, 'Tom','tom@utn.ar', 'UTN','2011/02/27',45049,'FALSE',0);\n",
    "INSERT INTO housing_listing VALUES (9, 1, 1, 40000, 'Tom','tom@fadu.ar', 'FADU','2011/02/27',45049, 'FALSE',0);\n",
    "INSERT INTO housing_listing VALUES (10, 1, 2, 5000000, 'Ania','ania@utn.ar', 'UTN','2011/02/27',45049, 'FALSE',0);\n",
    "INSERT INTO housing_listing VALUES (11, 2, 1, 20000, 'Tom','tom@fadu.ar', 'FADU','2011/02/27',45049, 'FALSE',0);\n",
    "INSERT INTO housing_listing VALUES (12, 3, 1, 3000, 'Tom','tom@uba.ar', 'UBA','2011/02/27',45049,'FALSE',0);\n",
    "INSERT INTO housing_listing VALUES (13, 3, 2, 2000000, 'Ania','ania@uba.ar', 'UBA','2011/02/27',45049, 'FALSE',0);\n",
    "INSERT INTO housing_listing VALUES (14, 2, 1, 3000, 'Tom', 'tom@utn.ar','UTN','2011/02/27',45049,'TRUE',0);\n",
    "INSERT INTO housing_listing VALUES (15, 1, 1, 40000, 'Tom','tom@fadu.ar', 'FADU','2011/02/27',45049, 'TRUE',0);\n",
    "INSERT INTO housing_listing VALUES (16, 1, 2, 5000000, 'Mania','mania@utn.ar', 'UTN','2011/02/27',45049, 'TRUE',0);\n",
    "INSERT INTO housing_listing VALUES (17, 2, 1, 20000, 'Ewa','ewa@fadu.ar', 'FADU','2011/02/27',45049, 'FALSE',0);\n",
    "INSERT INTO housing_listing VALUES (18, 3, 1, 3000, 'Tom','tom@uba.ar', 'UBA','2011/02/27',45049,'FALSE',0);\n",
    "INSERT INTO housing_listing VALUES (19, 3, 2, 2000000, 'Ewa','ewa@uba.ar', 'UBA','2011/02/27',45049, 'TRUE',0);\n",
    "INSERT INTO housing_listing VALUES (20, 2, 1, 3000, 'Liza','liza@utn.ar', 'UTN','2011/02/27',45049,'FALSE',0);\n",
    "INSERT INTO housing_listing VALUES (21, 1, 1, 40000, 'Liza','liza@fadu.ar', 'FADU','2011/02/27',45049, 'TRUE',0);\n",
    "INSERT INTO housing_listing VALUES (22, 1, 2, 5000000, 'Tom','tom@utn.ar', 'UTN','2011/02/27',45049, 'TRUE',0);\n",
    "INSERT INTO housing_listing VALUES (23, 2, 1, 20000, 'Liza','liza@utn.ar', 'UTN','2011/02/27',45049, 'FALSE',0);\n",
    "INSERT INTO housing_listing VALUES (24, 3, 1, 3000, 'Tom','tom@uba.ar', 'UBA','2011/02/27',45049,'FALSE',0);\n",
    "INSERT INTO housing_listing VALUES (25, 3, 2, 2000000, 'Tom','tom@uba.ar', 'UBA','2011/02/27',45049, 'FALSE',0);\n",
    "INSERT INTO housing_listing VALUES (26, 2, 1, 3000, 'Tom','tom@utn.ar', 'UTN','2011/02/27',45049,'FALSE',0);\n",
    "INSERT INTO housing_listing VALUES (27, 1, 1, 40000, 'Tom','tom@fadu.ar', 'FADU','2011/02/27',45049, 'FALSE',0);\n",
    "INSERT INTO housing_listing VALUES (28, 1, 2, 5000000, 'Ewa','ewa@utn.ar', 'UTN','2011/02/27',45049, 'FALSE',0);\n",
    "INSERT INTO housing_listing VALUES (29, 2, 1, 20000, 'Ewa','ewa@fadu.ar', 'FADU','2011/02/27',45049, 'TRUE',0);\n",
    "INSERT INTO housing_listing VALUES (30, 3, 1, 3000, 'Ewa','ewa@uba.ar', 'UBA','2011/02/27',45049,'FALSE',0);\n",
    "INSERT INTO housing_listing VALUES (31, 3, 2, 2000000, 'Ignatz','ignatz@uba.ar', 'UBA','2011/02/27',45049, 'FALSE',0);\n",
    "INSERT INTO housing_listing VALUES (32, 2, 1, 3000, 'Tom','tom@utn.ar', 'UTN','2011/02/27',45049,'FALSE',0);\n",
    "INSERT INTO housing_listing VALUES (33, 1, 1, 40000, 'Tom','tom@FADU.ar', 'FADU','2011/0/27',45049, 'TRUE',0);\n",
    "INSERT INTO housing_listing VALUES (34, 1, 2, 5000000, 'Tom', 'tom@utn.ar','UTN','2011/05/27',45049, 'TRUE',0);\n",
    "INSERT INTO housing_listing VALUES (35, 2, 1, 20000, 'Tom','tom@fadu.ar', 'FADU','2011/05/27',45049, 'TRUE',0);\n",
    "INSERT INTO housing_listing VALUES (36, 3, 1, 3000, 'Tom','tom@uba.ar', 'UBA','2011/04/27',45049,'FALSE',0);\n",
    "INSERT INTO housing_listing VALUES (37, 3, 2, 2000000, 'Pierre','pierre@uba.ar', 'UBA','2011/03/27',45049, 'FALSE',0);\n",
    "INSERT INTO housing_listing VALUES (39, 1, 1, 40000, 'Tom','tom@fadu.ar', 'FADU','2011/12/27',45049, 'FALSE',0);\n",
    "INSERT INTO housing_listing VALUES (41, 2, 1, 20000, 'Tom','tom@fadu.ar', 'FADU','2018/11/27',45049, 'TRUE',0);\n",
    "INSERT INTO housing_listing VALUES (42, 3, 1, 3000, 'Tom', 'tom@uba.ar','UBA','2019/12/27',45049,'FALSE',0);\n",
    "INSERT INTO housing_listing VALUES (43, 3, 2, 2000000, 'Tom', 'tom@uba.ar','UBA','2018/05/27',45049, 'FALSE',0);\n",
    "INSERT INTO housing_listing VALUES (44, 2, 1, 3000, 'Tom','tom@utn.ar', 'UTN','2011/09/27',45049,'FALSE',0);\n",
    "INSERT INTO housing_listing VALUES (45, 1, 1, 40000, 'Tom', 'tom@fadu.ar','FADU','2019/02/27',45049, 'FALSE',0);\n",
    "INSERT INTO housing_listing VALUES (46, 1, 2, 5000000, 'Tom', 'tom@utn.ar','UTN','2018/09/27',45049, 'TRUE',0);\n",
    "INSERT INTO housing_listing VALUES (47, 2, 1, 20000, 'Tom','tom@fadu.ar', 'FADU','2017/07/27',45049, 'FALSE',0);\n",
    "INSERT INTO housing_listing VALUES (48, 3, 1, 3000, 'Tom','tom@uba.ar', 'UBA','2016/12/27',45049,'FALSE',0);"
   ]
  },
  {
   "cell_type": "code",
   "execution_count": null,
   "metadata": {
    "collapsed": true
   },
   "outputs": [],
   "source": [
    "#Updating the sold values based on the buyer table "
   ]
  },
  {
   "cell_type": "code",
   "execution_count": null,
   "metadata": {
    "collapsed": true
   },
   "outputs": [],
   "source": []
  },
  {
   "cell_type": "code",
   "execution_count": null,
   "metadata": {
    "collapsed": true
   },
   "outputs": [],
   "source": []
  },
  {
   "cell_type": "code",
   "execution_count": null,
   "metadata": {
    "collapsed": true
   },
   "outputs": [],
   "source": [
    "#calculating the commission"
   ]
  },
  {
   "cell_type": "code",
   "execution_count": 14,
   "metadata": {
    "collapsed": false
   },
   "outputs": [
    {
     "name": "stdout",
     "output_type": "stream",
     "text": [
      " * sqlite://\n",
      "46 rows affected.\n"
     ]
    },
    {
     "data": {
      "text/plain": [
       "[]"
      ]
     },
     "execution_count": 14,
     "metadata": {},
     "output_type": "execute_result"
    }
   ],
   "source": [
    "%%sql\n",
    "\n",
    "UPDATE housing_listing \n",
    "SET     Commission =  CASE  \n",
    "                 WHEN listing_price < 100000 THEN listing_price * 1.1\n",
    "                 WHEN listing_price > 100000 AND listing_price < 200000 THEN listing_price * 1.75\n",
    "                 WHEN listing_price > 200000 AND listing_price < 500000 THEN listing_price * 1.6\n",
    "                 WHEN listing_price > 500000 AND listing_price < 1000000 THEN listing_price * 1.5\n",
    "                 WHEN listing_price > 1000000 THEN listing_price * 1.4\n",
    "                    END   "
   ]
  },
  {
   "cell_type": "code",
   "execution_count": 15,
   "metadata": {
    "collapsed": false,
    "scrolled": true
   },
   "outputs": [
    {
     "name": "stdout",
     "output_type": "stream",
     "text": [
      " * sqlite://\n",
      "Done.\n"
     ]
    },
    {
     "data": {
      "text/html": [
       "<table>\n",
       "    <tr>\n",
       "        <th>transaction_id</th>\n",
       "        <th>number_of_bedrooms</th>\n",
       "        <th>number_of_bathrooms</th>\n",
       "        <th>listing_price</th>\n",
       "        <th>listing_agent</th>\n",
       "        <th>agent_email</th>\n",
       "        <th>listing_office</th>\n",
       "        <th>date_of_listing</th>\n",
       "        <th>zip_code</th>\n",
       "        <th>sold</th>\n",
       "        <th>Commission</th>\n",
       "    </tr>\n",
       "    <tr>\n",
       "        <td>1</td>\n",
       "        <td>3</td>\n",
       "        <td>2</td>\n",
       "        <td>2000000</td>\n",
       "        <td>Tom</td>\n",
       "        <td>Tom@fadu.ar</td>\n",
       "        <td>FADU</td>\n",
       "        <td>2012/02/27</td>\n",
       "        <td>45049</td>\n",
       "        <td>TRUE</td>\n",
       "        <td>2800000</td>\n",
       "    </tr>\n",
       "    <tr>\n",
       "        <td>2</td>\n",
       "        <td>2</td>\n",
       "        <td>1</td>\n",
       "        <td>3000</td>\n",
       "        <td>Tom</td>\n",
       "        <td>Tom@fadu.ar</td>\n",
       "        <td>FADU</td>\n",
       "        <td>2011/06/27</td>\n",
       "        <td>45049</td>\n",
       "        <td>FALSE</td>\n",
       "        <td>3300.0</td>\n",
       "    </tr>\n",
       "    <tr>\n",
       "        <td>3</td>\n",
       "        <td>1</td>\n",
       "        <td>1</td>\n",
       "        <td>40000</td>\n",
       "        <td>Tom</td>\n",
       "        <td>Tom@fadu.ar</td>\n",
       "        <td>FADU</td>\n",
       "        <td>2008/08/03</td>\n",
       "        <td>45049</td>\n",
       "        <td>FALSE</td>\n",
       "        <td>44000</td>\n",
       "    </tr>\n",
       "    <tr>\n",
       "        <td>4</td>\n",
       "        <td>1</td>\n",
       "        <td>2</td>\n",
       "        <td>5000000</td>\n",
       "        <td>Tom</td>\n",
       "        <td>Tom@fadu.ar</td>\n",
       "        <td>FADU</td>\n",
       "        <td>2012/12/27</td>\n",
       "        <td>45049</td>\n",
       "        <td>FALSE</td>\n",
       "        <td>7000000</td>\n",
       "    </tr>\n",
       "    <tr>\n",
       "        <td>5</td>\n",
       "        <td>2</td>\n",
       "        <td>1</td>\n",
       "        <td>20000</td>\n",
       "        <td>Tom</td>\n",
       "        <td>Tom@fadu.ar</td>\n",
       "        <td>FADU</td>\n",
       "        <td>2001/02/17</td>\n",
       "        <td>45049</td>\n",
       "        <td>FALSE</td>\n",
       "        <td>22000</td>\n",
       "    </tr>\n",
       "    <tr>\n",
       "        <td>6</td>\n",
       "        <td>3</td>\n",
       "        <td>1</td>\n",
       "        <td>3000</td>\n",
       "        <td>Tom</td>\n",
       "        <td>Tom@fadu.ar</td>\n",
       "        <td>FADU</td>\n",
       "        <td>2019/02/01</td>\n",
       "        <td>45049</td>\n",
       "        <td>FALSE</td>\n",
       "        <td>3300.0</td>\n",
       "    </tr>\n",
       "    <tr>\n",
       "        <td>7</td>\n",
       "        <td>3</td>\n",
       "        <td>2</td>\n",
       "        <td>2000000</td>\n",
       "        <td>Liza</td>\n",
       "        <td>liza@uba.ar</td>\n",
       "        <td>UBA</td>\n",
       "        <td>2018/02/27</td>\n",
       "        <td>45049</td>\n",
       "        <td>FALSE</td>\n",
       "        <td>2800000</td>\n",
       "    </tr>\n",
       "    <tr>\n",
       "        <td>8</td>\n",
       "        <td>2</td>\n",
       "        <td>1</td>\n",
       "        <td>3000</td>\n",
       "        <td>Tom</td>\n",
       "        <td>tom@utn.ar</td>\n",
       "        <td>UTN</td>\n",
       "        <td>2011/02/27</td>\n",
       "        <td>45049</td>\n",
       "        <td>FALSE</td>\n",
       "        <td>3300.0</td>\n",
       "    </tr>\n",
       "    <tr>\n",
       "        <td>9</td>\n",
       "        <td>1</td>\n",
       "        <td>1</td>\n",
       "        <td>40000</td>\n",
       "        <td>Tom</td>\n",
       "        <td>tom@fadu.ar</td>\n",
       "        <td>FADU</td>\n",
       "        <td>2011/02/27</td>\n",
       "        <td>45049</td>\n",
       "        <td>FALSE</td>\n",
       "        <td>44000</td>\n",
       "    </tr>\n",
       "    <tr>\n",
       "        <td>10</td>\n",
       "        <td>1</td>\n",
       "        <td>2</td>\n",
       "        <td>5000000</td>\n",
       "        <td>Ania</td>\n",
       "        <td>ania@utn.ar</td>\n",
       "        <td>UTN</td>\n",
       "        <td>2011/02/27</td>\n",
       "        <td>45049</td>\n",
       "        <td>FALSE</td>\n",
       "        <td>7000000</td>\n",
       "    </tr>\n",
       "    <tr>\n",
       "        <td>11</td>\n",
       "        <td>2</td>\n",
       "        <td>1</td>\n",
       "        <td>20000</td>\n",
       "        <td>Tom</td>\n",
       "        <td>tom@fadu.ar</td>\n",
       "        <td>FADU</td>\n",
       "        <td>2011/02/27</td>\n",
       "        <td>45049</td>\n",
       "        <td>FALSE</td>\n",
       "        <td>22000</td>\n",
       "    </tr>\n",
       "    <tr>\n",
       "        <td>12</td>\n",
       "        <td>3</td>\n",
       "        <td>1</td>\n",
       "        <td>3000</td>\n",
       "        <td>Tom</td>\n",
       "        <td>tom@uba.ar</td>\n",
       "        <td>UBA</td>\n",
       "        <td>2011/02/27</td>\n",
       "        <td>45049</td>\n",
       "        <td>FALSE</td>\n",
       "        <td>3300.0</td>\n",
       "    </tr>\n",
       "    <tr>\n",
       "        <td>13</td>\n",
       "        <td>3</td>\n",
       "        <td>2</td>\n",
       "        <td>2000000</td>\n",
       "        <td>Ania</td>\n",
       "        <td>ania@uba.ar</td>\n",
       "        <td>UBA</td>\n",
       "        <td>2011/02/27</td>\n",
       "        <td>45049</td>\n",
       "        <td>FALSE</td>\n",
       "        <td>2800000</td>\n",
       "    </tr>\n",
       "    <tr>\n",
       "        <td>14</td>\n",
       "        <td>2</td>\n",
       "        <td>1</td>\n",
       "        <td>3000</td>\n",
       "        <td>Tom</td>\n",
       "        <td>tom@utn.ar</td>\n",
       "        <td>UTN</td>\n",
       "        <td>2011/02/27</td>\n",
       "        <td>45049</td>\n",
       "        <td>TRUE</td>\n",
       "        <td>3300.0</td>\n",
       "    </tr>\n",
       "    <tr>\n",
       "        <td>15</td>\n",
       "        <td>1</td>\n",
       "        <td>1</td>\n",
       "        <td>40000</td>\n",
       "        <td>Tom</td>\n",
       "        <td>tom@fadu.ar</td>\n",
       "        <td>FADU</td>\n",
       "        <td>2011/02/27</td>\n",
       "        <td>45049</td>\n",
       "        <td>TRUE</td>\n",
       "        <td>44000</td>\n",
       "    </tr>\n",
       "    <tr>\n",
       "        <td>16</td>\n",
       "        <td>1</td>\n",
       "        <td>2</td>\n",
       "        <td>5000000</td>\n",
       "        <td>Mania</td>\n",
       "        <td>mania@utn.ar</td>\n",
       "        <td>UTN</td>\n",
       "        <td>2011/02/27</td>\n",
       "        <td>45049</td>\n",
       "        <td>TRUE</td>\n",
       "        <td>7000000</td>\n",
       "    </tr>\n",
       "    <tr>\n",
       "        <td>17</td>\n",
       "        <td>2</td>\n",
       "        <td>1</td>\n",
       "        <td>20000</td>\n",
       "        <td>Ewa</td>\n",
       "        <td>ewa@fadu.ar</td>\n",
       "        <td>FADU</td>\n",
       "        <td>2011/02/27</td>\n",
       "        <td>45049</td>\n",
       "        <td>FALSE</td>\n",
       "        <td>22000</td>\n",
       "    </tr>\n",
       "    <tr>\n",
       "        <td>18</td>\n",
       "        <td>3</td>\n",
       "        <td>1</td>\n",
       "        <td>3000</td>\n",
       "        <td>Tom</td>\n",
       "        <td>tom@uba.ar</td>\n",
       "        <td>UBA</td>\n",
       "        <td>2011/02/27</td>\n",
       "        <td>45049</td>\n",
       "        <td>FALSE</td>\n",
       "        <td>3300.0</td>\n",
       "    </tr>\n",
       "    <tr>\n",
       "        <td>19</td>\n",
       "        <td>3</td>\n",
       "        <td>2</td>\n",
       "        <td>2000000</td>\n",
       "        <td>Ewa</td>\n",
       "        <td>ewa@uba.ar</td>\n",
       "        <td>UBA</td>\n",
       "        <td>2011/02/27</td>\n",
       "        <td>45049</td>\n",
       "        <td>TRUE</td>\n",
       "        <td>2800000</td>\n",
       "    </tr>\n",
       "    <tr>\n",
       "        <td>20</td>\n",
       "        <td>2</td>\n",
       "        <td>1</td>\n",
       "        <td>3000</td>\n",
       "        <td>Liza</td>\n",
       "        <td>liza@utn.ar</td>\n",
       "        <td>UTN</td>\n",
       "        <td>2011/02/27</td>\n",
       "        <td>45049</td>\n",
       "        <td>FALSE</td>\n",
       "        <td>3300.0</td>\n",
       "    </tr>\n",
       "    <tr>\n",
       "        <td>21</td>\n",
       "        <td>1</td>\n",
       "        <td>1</td>\n",
       "        <td>40000</td>\n",
       "        <td>Liza</td>\n",
       "        <td>liza@fadu.ar</td>\n",
       "        <td>FADU</td>\n",
       "        <td>2011/02/27</td>\n",
       "        <td>45049</td>\n",
       "        <td>TRUE</td>\n",
       "        <td>44000</td>\n",
       "    </tr>\n",
       "    <tr>\n",
       "        <td>22</td>\n",
       "        <td>1</td>\n",
       "        <td>2</td>\n",
       "        <td>5000000</td>\n",
       "        <td>Tom</td>\n",
       "        <td>tom@utn.ar</td>\n",
       "        <td>UTN</td>\n",
       "        <td>2011/02/27</td>\n",
       "        <td>45049</td>\n",
       "        <td>TRUE</td>\n",
       "        <td>7000000</td>\n",
       "    </tr>\n",
       "    <tr>\n",
       "        <td>23</td>\n",
       "        <td>2</td>\n",
       "        <td>1</td>\n",
       "        <td>20000</td>\n",
       "        <td>Liza</td>\n",
       "        <td>liza@utn.ar</td>\n",
       "        <td>UTN</td>\n",
       "        <td>2011/02/27</td>\n",
       "        <td>45049</td>\n",
       "        <td>FALSE</td>\n",
       "        <td>22000</td>\n",
       "    </tr>\n",
       "    <tr>\n",
       "        <td>24</td>\n",
       "        <td>3</td>\n",
       "        <td>1</td>\n",
       "        <td>3000</td>\n",
       "        <td>Tom</td>\n",
       "        <td>tom@uba.ar</td>\n",
       "        <td>UBA</td>\n",
       "        <td>2011/02/27</td>\n",
       "        <td>45049</td>\n",
       "        <td>FALSE</td>\n",
       "        <td>3300.0</td>\n",
       "    </tr>\n",
       "    <tr>\n",
       "        <td>25</td>\n",
       "        <td>3</td>\n",
       "        <td>2</td>\n",
       "        <td>2000000</td>\n",
       "        <td>Tom</td>\n",
       "        <td>tom@uba.ar</td>\n",
       "        <td>UBA</td>\n",
       "        <td>2011/02/27</td>\n",
       "        <td>45049</td>\n",
       "        <td>FALSE</td>\n",
       "        <td>2800000</td>\n",
       "    </tr>\n",
       "    <tr>\n",
       "        <td>26</td>\n",
       "        <td>2</td>\n",
       "        <td>1</td>\n",
       "        <td>3000</td>\n",
       "        <td>Tom</td>\n",
       "        <td>tom@utn.ar</td>\n",
       "        <td>UTN</td>\n",
       "        <td>2011/02/27</td>\n",
       "        <td>45049</td>\n",
       "        <td>FALSE</td>\n",
       "        <td>3300.0</td>\n",
       "    </tr>\n",
       "    <tr>\n",
       "        <td>27</td>\n",
       "        <td>1</td>\n",
       "        <td>1</td>\n",
       "        <td>40000</td>\n",
       "        <td>Tom</td>\n",
       "        <td>tom@fadu.ar</td>\n",
       "        <td>FADU</td>\n",
       "        <td>2011/02/27</td>\n",
       "        <td>45049</td>\n",
       "        <td>FALSE</td>\n",
       "        <td>44000</td>\n",
       "    </tr>\n",
       "    <tr>\n",
       "        <td>28</td>\n",
       "        <td>1</td>\n",
       "        <td>2</td>\n",
       "        <td>5000000</td>\n",
       "        <td>Ewa</td>\n",
       "        <td>ewa@utn.ar</td>\n",
       "        <td>UTN</td>\n",
       "        <td>2011/02/27</td>\n",
       "        <td>45049</td>\n",
       "        <td>FALSE</td>\n",
       "        <td>7000000</td>\n",
       "    </tr>\n",
       "    <tr>\n",
       "        <td>29</td>\n",
       "        <td>2</td>\n",
       "        <td>1</td>\n",
       "        <td>20000</td>\n",
       "        <td>Ewa</td>\n",
       "        <td>ewa@fadu.ar</td>\n",
       "        <td>FADU</td>\n",
       "        <td>2011/02/27</td>\n",
       "        <td>45049</td>\n",
       "        <td>TRUE</td>\n",
       "        <td>22000</td>\n",
       "    </tr>\n",
       "    <tr>\n",
       "        <td>30</td>\n",
       "        <td>3</td>\n",
       "        <td>1</td>\n",
       "        <td>3000</td>\n",
       "        <td>Ewa</td>\n",
       "        <td>ewa@uba.ar</td>\n",
       "        <td>UBA</td>\n",
       "        <td>2011/02/27</td>\n",
       "        <td>45049</td>\n",
       "        <td>FALSE</td>\n",
       "        <td>3300.0</td>\n",
       "    </tr>\n",
       "    <tr>\n",
       "        <td>31</td>\n",
       "        <td>3</td>\n",
       "        <td>2</td>\n",
       "        <td>2000000</td>\n",
       "        <td>Ignatz</td>\n",
       "        <td>ignatz@uba.ar</td>\n",
       "        <td>UBA</td>\n",
       "        <td>2011/02/27</td>\n",
       "        <td>45049</td>\n",
       "        <td>FALSE</td>\n",
       "        <td>2800000</td>\n",
       "    </tr>\n",
       "    <tr>\n",
       "        <td>32</td>\n",
       "        <td>2</td>\n",
       "        <td>1</td>\n",
       "        <td>3000</td>\n",
       "        <td>Tom</td>\n",
       "        <td>tom@utn.ar</td>\n",
       "        <td>UTN</td>\n",
       "        <td>2011/02/27</td>\n",
       "        <td>45049</td>\n",
       "        <td>FALSE</td>\n",
       "        <td>3300.0</td>\n",
       "    </tr>\n",
       "    <tr>\n",
       "        <td>33</td>\n",
       "        <td>1</td>\n",
       "        <td>1</td>\n",
       "        <td>40000</td>\n",
       "        <td>Tom</td>\n",
       "        <td>tom@FADU.ar</td>\n",
       "        <td>FADU</td>\n",
       "        <td>2011/0/27</td>\n",
       "        <td>45049</td>\n",
       "        <td>TRUE</td>\n",
       "        <td>44000</td>\n",
       "    </tr>\n",
       "    <tr>\n",
       "        <td>34</td>\n",
       "        <td>1</td>\n",
       "        <td>2</td>\n",
       "        <td>5000000</td>\n",
       "        <td>Tom</td>\n",
       "        <td>tom@utn.ar</td>\n",
       "        <td>UTN</td>\n",
       "        <td>2011/05/27</td>\n",
       "        <td>45049</td>\n",
       "        <td>TRUE</td>\n",
       "        <td>7000000</td>\n",
       "    </tr>\n",
       "    <tr>\n",
       "        <td>35</td>\n",
       "        <td>2</td>\n",
       "        <td>1</td>\n",
       "        <td>20000</td>\n",
       "        <td>Tom</td>\n",
       "        <td>tom@fadu.ar</td>\n",
       "        <td>FADU</td>\n",
       "        <td>2011/05/27</td>\n",
       "        <td>45049</td>\n",
       "        <td>TRUE</td>\n",
       "        <td>22000</td>\n",
       "    </tr>\n",
       "    <tr>\n",
       "        <td>36</td>\n",
       "        <td>3</td>\n",
       "        <td>1</td>\n",
       "        <td>3000</td>\n",
       "        <td>Tom</td>\n",
       "        <td>tom@uba.ar</td>\n",
       "        <td>UBA</td>\n",
       "        <td>2011/04/27</td>\n",
       "        <td>45049</td>\n",
       "        <td>FALSE</td>\n",
       "        <td>3300.0</td>\n",
       "    </tr>\n",
       "    <tr>\n",
       "        <td>37</td>\n",
       "        <td>3</td>\n",
       "        <td>2</td>\n",
       "        <td>2000000</td>\n",
       "        <td>Pierre</td>\n",
       "        <td>pierre@uba.ar</td>\n",
       "        <td>UBA</td>\n",
       "        <td>2011/03/27</td>\n",
       "        <td>45049</td>\n",
       "        <td>FALSE</td>\n",
       "        <td>2800000</td>\n",
       "    </tr>\n",
       "    <tr>\n",
       "        <td>39</td>\n",
       "        <td>1</td>\n",
       "        <td>1</td>\n",
       "        <td>40000</td>\n",
       "        <td>Tom</td>\n",
       "        <td>tom@fadu.ar</td>\n",
       "        <td>FADU</td>\n",
       "        <td>2011/12/27</td>\n",
       "        <td>45049</td>\n",
       "        <td>FALSE</td>\n",
       "        <td>44000</td>\n",
       "    </tr>\n",
       "    <tr>\n",
       "        <td>41</td>\n",
       "        <td>2</td>\n",
       "        <td>1</td>\n",
       "        <td>20000</td>\n",
       "        <td>Tom</td>\n",
       "        <td>tom@fadu.ar</td>\n",
       "        <td>FADU</td>\n",
       "        <td>2018/11/27</td>\n",
       "        <td>45049</td>\n",
       "        <td>TRUE</td>\n",
       "        <td>22000</td>\n",
       "    </tr>\n",
       "    <tr>\n",
       "        <td>42</td>\n",
       "        <td>3</td>\n",
       "        <td>1</td>\n",
       "        <td>3000</td>\n",
       "        <td>Tom</td>\n",
       "        <td>tom@uba.ar</td>\n",
       "        <td>UBA</td>\n",
       "        <td>2019/12/27</td>\n",
       "        <td>45049</td>\n",
       "        <td>FALSE</td>\n",
       "        <td>3300.0</td>\n",
       "    </tr>\n",
       "    <tr>\n",
       "        <td>43</td>\n",
       "        <td>3</td>\n",
       "        <td>2</td>\n",
       "        <td>2000000</td>\n",
       "        <td>Tom</td>\n",
       "        <td>tom@uba.ar</td>\n",
       "        <td>UBA</td>\n",
       "        <td>2018/05/27</td>\n",
       "        <td>45049</td>\n",
       "        <td>FALSE</td>\n",
       "        <td>2800000</td>\n",
       "    </tr>\n",
       "    <tr>\n",
       "        <td>44</td>\n",
       "        <td>2</td>\n",
       "        <td>1</td>\n",
       "        <td>3000</td>\n",
       "        <td>Tom</td>\n",
       "        <td>tom@utn.ar</td>\n",
       "        <td>UTN</td>\n",
       "        <td>2011/09/27</td>\n",
       "        <td>45049</td>\n",
       "        <td>FALSE</td>\n",
       "        <td>3300.0</td>\n",
       "    </tr>\n",
       "    <tr>\n",
       "        <td>45</td>\n",
       "        <td>1</td>\n",
       "        <td>1</td>\n",
       "        <td>40000</td>\n",
       "        <td>Tom</td>\n",
       "        <td>tom@fadu.ar</td>\n",
       "        <td>FADU</td>\n",
       "        <td>2019/02/27</td>\n",
       "        <td>45049</td>\n",
       "        <td>FALSE</td>\n",
       "        <td>44000</td>\n",
       "    </tr>\n",
       "    <tr>\n",
       "        <td>46</td>\n",
       "        <td>1</td>\n",
       "        <td>2</td>\n",
       "        <td>5000000</td>\n",
       "        <td>Tom</td>\n",
       "        <td>tom@utn.ar</td>\n",
       "        <td>UTN</td>\n",
       "        <td>2018/09/27</td>\n",
       "        <td>45049</td>\n",
       "        <td>TRUE</td>\n",
       "        <td>7000000</td>\n",
       "    </tr>\n",
       "    <tr>\n",
       "        <td>47</td>\n",
       "        <td>2</td>\n",
       "        <td>1</td>\n",
       "        <td>20000</td>\n",
       "        <td>Tom</td>\n",
       "        <td>tom@fadu.ar</td>\n",
       "        <td>FADU</td>\n",
       "        <td>2017/07/27</td>\n",
       "        <td>45049</td>\n",
       "        <td>FALSE</td>\n",
       "        <td>22000</td>\n",
       "    </tr>\n",
       "    <tr>\n",
       "        <td>48</td>\n",
       "        <td>3</td>\n",
       "        <td>1</td>\n",
       "        <td>3000</td>\n",
       "        <td>Tom</td>\n",
       "        <td>tom@uba.ar</td>\n",
       "        <td>UBA</td>\n",
       "        <td>2016/12/27</td>\n",
       "        <td>45049</td>\n",
       "        <td>FALSE</td>\n",
       "        <td>3300.0</td>\n",
       "    </tr>\n",
       "</table>"
      ],
      "text/plain": [
       "[(1, 3, 2, 2000000, u'Tom', u'Tom@fadu.ar', u'FADU', u'2012/02/27', 45049, u'TRUE', 2800000),\n",
       " (2, 2, 1, 3000, u'Tom', u'Tom@fadu.ar', u'FADU', u'2011/06/27', 45049, u'FALSE', 3300.0000000000005),\n",
       " (3, 1, 1, 40000, u'Tom', u'Tom@fadu.ar', u'FADU', u'2008/08/03', 45049, u'FALSE', 44000),\n",
       " (4, 1, 2, 5000000, u'Tom', u'Tom@fadu.ar', u'FADU', u'2012/12/27', 45049, u'FALSE', 7000000),\n",
       " (5, 2, 1, 20000, u'Tom', u'Tom@fadu.ar', u'FADU', u'2001/02/17', 45049, u'FALSE', 22000),\n",
       " (6, 3, 1, 3000, u'Tom', u'Tom@fadu.ar', u'FADU', u'2019/02/01', 45049, u'FALSE', 3300.0000000000005),\n",
       " (7, 3, 2, 2000000, u'Liza', u'liza@uba.ar', u'UBA', u'2018/02/27', 45049, u'FALSE', 2800000),\n",
       " (8, 2, 1, 3000, u'Tom', u'tom@utn.ar', u'UTN', u'2011/02/27', 45049, u'FALSE', 3300.0000000000005),\n",
       " (9, 1, 1, 40000, u'Tom', u'tom@fadu.ar', u'FADU', u'2011/02/27', 45049, u'FALSE', 44000),\n",
       " (10, 1, 2, 5000000, u'Ania', u'ania@utn.ar', u'UTN', u'2011/02/27', 45049, u'FALSE', 7000000),\n",
       " (11, 2, 1, 20000, u'Tom', u'tom@fadu.ar', u'FADU', u'2011/02/27', 45049, u'FALSE', 22000),\n",
       " (12, 3, 1, 3000, u'Tom', u'tom@uba.ar', u'UBA', u'2011/02/27', 45049, u'FALSE', 3300.0000000000005),\n",
       " (13, 3, 2, 2000000, u'Ania', u'ania@uba.ar', u'UBA', u'2011/02/27', 45049, u'FALSE', 2800000),\n",
       " (14, 2, 1, 3000, u'Tom', u'tom@utn.ar', u'UTN', u'2011/02/27', 45049, u'TRUE', 3300.0000000000005),\n",
       " (15, 1, 1, 40000, u'Tom', u'tom@fadu.ar', u'FADU', u'2011/02/27', 45049, u'TRUE', 44000),\n",
       " (16, 1, 2, 5000000, u'Mania', u'mania@utn.ar', u'UTN', u'2011/02/27', 45049, u'TRUE', 7000000),\n",
       " (17, 2, 1, 20000, u'Ewa', u'ewa@fadu.ar', u'FADU', u'2011/02/27', 45049, u'FALSE', 22000),\n",
       " (18, 3, 1, 3000, u'Tom', u'tom@uba.ar', u'UBA', u'2011/02/27', 45049, u'FALSE', 3300.0000000000005),\n",
       " (19, 3, 2, 2000000, u'Ewa', u'ewa@uba.ar', u'UBA', u'2011/02/27', 45049, u'TRUE', 2800000),\n",
       " (20, 2, 1, 3000, u'Liza', u'liza@utn.ar', u'UTN', u'2011/02/27', 45049, u'FALSE', 3300.0000000000005),\n",
       " (21, 1, 1, 40000, u'Liza', u'liza@fadu.ar', u'FADU', u'2011/02/27', 45049, u'TRUE', 44000),\n",
       " (22, 1, 2, 5000000, u'Tom', u'tom@utn.ar', u'UTN', u'2011/02/27', 45049, u'TRUE', 7000000),\n",
       " (23, 2, 1, 20000, u'Liza', u'liza@utn.ar', u'UTN', u'2011/02/27', 45049, u'FALSE', 22000),\n",
       " (24, 3, 1, 3000, u'Tom', u'tom@uba.ar', u'UBA', u'2011/02/27', 45049, u'FALSE', 3300.0000000000005),\n",
       " (25, 3, 2, 2000000, u'Tom', u'tom@uba.ar', u'UBA', u'2011/02/27', 45049, u'FALSE', 2800000),\n",
       " (26, 2, 1, 3000, u'Tom', u'tom@utn.ar', u'UTN', u'2011/02/27', 45049, u'FALSE', 3300.0000000000005),\n",
       " (27, 1, 1, 40000, u'Tom', u'tom@fadu.ar', u'FADU', u'2011/02/27', 45049, u'FALSE', 44000),\n",
       " (28, 1, 2, 5000000, u'Ewa', u'ewa@utn.ar', u'UTN', u'2011/02/27', 45049, u'FALSE', 7000000),\n",
       " (29, 2, 1, 20000, u'Ewa', u'ewa@fadu.ar', u'FADU', u'2011/02/27', 45049, u'TRUE', 22000),\n",
       " (30, 3, 1, 3000, u'Ewa', u'ewa@uba.ar', u'UBA', u'2011/02/27', 45049, u'FALSE', 3300.0000000000005),\n",
       " (31, 3, 2, 2000000, u'Ignatz', u'ignatz@uba.ar', u'UBA', u'2011/02/27', 45049, u'FALSE', 2800000),\n",
       " (32, 2, 1, 3000, u'Tom', u'tom@utn.ar', u'UTN', u'2011/02/27', 45049, u'FALSE', 3300.0000000000005),\n",
       " (33, 1, 1, 40000, u'Tom', u'tom@FADU.ar', u'FADU', u'2011/0/27', 45049, u'TRUE', 44000),\n",
       " (34, 1, 2, 5000000, u'Tom', u'tom@utn.ar', u'UTN', u'2011/05/27', 45049, u'TRUE', 7000000),\n",
       " (35, 2, 1, 20000, u'Tom', u'tom@fadu.ar', u'FADU', u'2011/05/27', 45049, u'TRUE', 22000),\n",
       " (36, 3, 1, 3000, u'Tom', u'tom@uba.ar', u'UBA', u'2011/04/27', 45049, u'FALSE', 3300.0000000000005),\n",
       " (37, 3, 2, 2000000, u'Pierre', u'pierre@uba.ar', u'UBA', u'2011/03/27', 45049, u'FALSE', 2800000),\n",
       " (39, 1, 1, 40000, u'Tom', u'tom@fadu.ar', u'FADU', u'2011/12/27', 45049, u'FALSE', 44000),\n",
       " (41, 2, 1, 20000, u'Tom', u'tom@fadu.ar', u'FADU', u'2018/11/27', 45049, u'TRUE', 22000),\n",
       " (42, 3, 1, 3000, u'Tom', u'tom@uba.ar', u'UBA', u'2019/12/27', 45049, u'FALSE', 3300.0000000000005),\n",
       " (43, 3, 2, 2000000, u'Tom', u'tom@uba.ar', u'UBA', u'2018/05/27', 45049, u'FALSE', 2800000),\n",
       " (44, 2, 1, 3000, u'Tom', u'tom@utn.ar', u'UTN', u'2011/09/27', 45049, u'FALSE', 3300.0000000000005),\n",
       " (45, 1, 1, 40000, u'Tom', u'tom@fadu.ar', u'FADU', u'2019/02/27', 45049, u'FALSE', 44000),\n",
       " (46, 1, 2, 5000000, u'Tom', u'tom@utn.ar', u'UTN', u'2018/09/27', 45049, u'TRUE', 7000000),\n",
       " (47, 2, 1, 20000, u'Tom', u'tom@fadu.ar', u'FADU', u'2017/07/27', 45049, u'FALSE', 22000),\n",
       " (48, 3, 1, 3000, u'Tom', u'tom@uba.ar', u'UBA', u'2016/12/27', 45049, u'FALSE', 3300.0000000000005)]"
      ]
     },
     "execution_count": 15,
     "metadata": {},
     "output_type": "execute_result"
    }
   ],
   "source": [
    "%%sql \n",
    "SELECT * FROM housing_listing"
   ]
  },
  {
   "cell_type": "code",
   "execution_count": null,
   "metadata": {
    "collapsed": true
   },
   "outputs": [],
   "source": [
    "#Querying data\n",
    "\n",
    "Every month the following reports need to be run:\n",
    "\n",
    "#Find the top 5 offices with the most sales for that month.\n",
    "#Find the top 5 estate agents who have sold the most (include their contact details and their sales details so that it is easy contact them and congratulate them).\n",
    "#Calculate the commission that each estate agent must receive and store the results in a separate table.\n",
    "For all houses that were sold that month, calculate the average number of days that the house was on the market.\n",
    "For all houses that were sold that month, calculate the average selling price\n",
    "Find the zip codes with the top 5 average sales prices"
   ]
  },
  {
   "cell_type": "code",
   "execution_count": null,
   "metadata": {
    "collapsed": true
   },
   "outputs": [],
   "source": [
    "#Top 5 offices with the most sales for the month "
   ]
  },
  {
   "cell_type": "code",
   "execution_count": 20,
   "metadata": {
    "collapsed": false,
    "scrolled": true
   },
   "outputs": [
    {
     "name": "stdout",
     "output_type": "stream",
     "text": [
      " * sqlite://\n",
      "Done.\n"
     ]
    },
    {
     "data": {
      "text/html": [
       "<table>\n",
       "    <tr>\n",
       "        <th>mycount</th>\n",
       "        <th>listing_office</th>\n",
       "    </tr>\n",
       "    <tr>\n",
       "        <td>3</td>\n",
       "        <td>FADU</td>\n",
       "    </tr>\n",
       "    <tr>\n",
       "        <td>3</td>\n",
       "        <td>UTN</td>\n",
       "    </tr>\n",
       "    <tr>\n",
       "        <td>1</td>\n",
       "        <td>UBA</td>\n",
       "    </tr>\n",
       "</table>"
      ],
      "text/plain": [
       "[(3, u'FADU'), (3, u'UTN'), (1, u'UBA')]"
      ]
     },
     "execution_count": 20,
     "metadata": {},
     "output_type": "execute_result"
    }
   ],
   "source": [
    "%%sql\n",
    "\n",
    "SELECT mycount,listing_office \n",
    "FROM (SELECT listing_office, COUNT(listing_office) mycount \n",
    "FROM housing_listing \n",
    "WHERE date_of_listing BETWEEN '2011/02/27' and '2011/03/27' and sold ='TRUE'\n",
    "GROUP BY listing_office \n",
    "ORDER BY COUNT(listing_office) DESC\n",
    "LIMIT  5\n",
    "     );"
   ]
  },
  {
   "cell_type": "code",
   "execution_count": null,
   "metadata": {
    "collapsed": false
   },
   "outputs": [],
   "source": [
    "#Top 5 estate agents who have sold the most "
   ]
  },
  {
   "cell_type": "code",
   "execution_count": 22,
   "metadata": {
    "collapsed": false
   },
   "outputs": [
    {
     "name": "stdout",
     "output_type": "stream",
     "text": [
      " * sqlite://\n",
      "Done.\n"
     ]
    },
    {
     "data": {
      "text/html": [
       "<table>\n",
       "    <tr>\n",
       "        <th>listing_agent</th>\n",
       "        <th>agent_email</th>\n",
       "        <th>sales</th>\n",
       "    </tr>\n",
       "    <tr>\n",
       "        <td>Tom</td>\n",
       "        <td>tom@utn.ar</td>\n",
       "        <td>3</td>\n",
       "    </tr>\n",
       "    <tr>\n",
       "        <td>Ewa</td>\n",
       "        <td>ewa@fadu.ar</td>\n",
       "        <td>2</td>\n",
       "    </tr>\n",
       "    <tr>\n",
       "        <td>Liza</td>\n",
       "        <td>liza@fadu.ar</td>\n",
       "        <td>1</td>\n",
       "    </tr>\n",
       "    <tr>\n",
       "        <td>Mania</td>\n",
       "        <td>mania@utn.ar</td>\n",
       "        <td>1</td>\n",
       "    </tr>\n",
       "</table>"
      ],
      "text/plain": [
       "[(u'Tom', u'tom@utn.ar', 3),\n",
       " (u'Ewa', u'ewa@fadu.ar', 2),\n",
       " (u'Liza', u'liza@fadu.ar', 1),\n",
       " (u'Mania', u'mania@utn.ar', 1)]"
      ]
     },
     "execution_count": 22,
     "metadata": {},
     "output_type": "execute_result"
    }
   ],
   "source": [
    "%%sql\n",
    "SELECT listing_agent,agent_email,COUNT(listing_agent) sales\n",
    "FROM housing_listing \n",
    "WHERE date_of_listing BETWEEN '2011/02/27' and '2011/03/27'  and sold = \"TRUE\" \n",
    "GROUP BY listing_agent\n",
    "ORDER BY COUNT(listing_agent) DESC\n",
    "LIMIT    5"
   ]
  },
  {
   "cell_type": "code",
   "execution_count": null,
   "metadata": {
    "collapsed": true
   },
   "outputs": [],
   "source": [
    "#Calculate the commission that each estate agent must receive "
   ]
  },
  {
   "cell_type": "code",
   "execution_count": 54,
   "metadata": {
    "collapsed": false
   },
   "outputs": [
    {
     "name": "stdout",
     "output_type": "stream",
     "text": [
      " * sqlite://\n",
      "Done.\n"
     ]
    },
    {
     "data": {
      "text/plain": [
       "[]"
      ]
     },
     "execution_count": 54,
     "metadata": {},
     "output_type": "execute_result"
    }
   ],
   "source": [
    "%%sql\n",
    "CREATE TABLE Commission_table \n",
    "(\n",
    "  listing_agent TEXT, \n",
    "  listing_price INT, \n",
    "  Commission INT,\n",
    "  agreggate_profit INT\n",
    "); "
   ]
  },
  {
   "cell_type": "code",
   "execution_count": 55,
   "metadata": {
    "collapsed": false
   },
   "outputs": [
    {
     "name": "stdout",
     "output_type": "stream",
     "text": [
      " * sqlite://\n",
      "4 rows affected.\n"
     ]
    },
    {
     "data": {
      "text/plain": [
       "[]"
      ]
     },
     "execution_count": 55,
     "metadata": {},
     "output_type": "execute_result"
    }
   ],
   "source": [
    "%%sql\n",
    "INSERT INTO Commission_table (listing_agent, listing_price,Commission,agreggate_profit)\n",
    "SELECT listing_agent, listing_price,Commission,sum(Commission -listing_price) as agreggate_profit \n",
    "FROM housing_listing \n",
    "WHERE date_of_listing \n",
    "BETWEEN '2011/02/27' and '2011/03/27'  and sold = \"TRUE\" \n",
    "GROUP BY listing_agent\n",
    "ORDER BY agreggate_profit DESC\n"
   ]
  },
  {
   "cell_type": "code",
   "execution_count": 56,
   "metadata": {
    "collapsed": false
   },
   "outputs": [
    {
     "name": "stdout",
     "output_type": "stream",
     "text": [
      " * sqlite://\n",
      "Done.\n"
     ]
    },
    {
     "data": {
      "text/html": [
       "<table>\n",
       "    <tr>\n",
       "        <th>listing_agent</th>\n",
       "        <th>listing_price</th>\n",
       "        <th>Commission</th>\n",
       "        <th>agreggate_profit</th>\n",
       "    </tr>\n",
       "    <tr>\n",
       "        <td>Tom</td>\n",
       "        <td>5000000</td>\n",
       "        <td>7000000</td>\n",
       "        <td>2004300</td>\n",
       "    </tr>\n",
       "    <tr>\n",
       "        <td>Mania</td>\n",
       "        <td>5000000</td>\n",
       "        <td>7000000</td>\n",
       "        <td>2000000</td>\n",
       "    </tr>\n",
       "    <tr>\n",
       "        <td>Ewa</td>\n",
       "        <td>20000</td>\n",
       "        <td>22000</td>\n",
       "        <td>802000</td>\n",
       "    </tr>\n",
       "    <tr>\n",
       "        <td>Liza</td>\n",
       "        <td>40000</td>\n",
       "        <td>44000</td>\n",
       "        <td>4000</td>\n",
       "    </tr>\n",
       "</table>"
      ],
      "text/plain": [
       "[(u'Tom', 5000000, 7000000, 2004300),\n",
       " (u'Mania', 5000000, 7000000, 2000000),\n",
       " (u'Ewa', 20000, 22000, 802000),\n",
       " (u'Liza', 40000, 44000, 4000)]"
      ]
     },
     "execution_count": 56,
     "metadata": {},
     "output_type": "execute_result"
    }
   ],
   "source": [
    "%%sql\n",
    "\n",
    "SELECT * FROM Commission_table "
   ]
  },
  {
   "cell_type": "code",
   "execution_count": null,
   "metadata": {
    "collapsed": true
   },
   "outputs": [],
   "source": [
    "#For all houses that were sold that month, calculate the average number of days \n",
    "#that the house was on the market."
   ]
  },
  {
   "cell_type": "code",
   "execution_count": 60,
   "metadata": {
    "collapsed": false
   },
   "outputs": [
    {
     "name": "stdout",
     "output_type": "stream",
     "text": [
      " * sqlite://\n",
      "Done.\n"
     ]
    },
    {
     "data": {
      "text/html": [
       "<table>\n",
       "    <tr>\n",
       "        <th>transaction_id</th>\n",
       "        <th>buyer_name</th>\n",
       "        <th>buyer_id</th>\n",
       "        <th>sale_price</th>\n",
       "        <th>date_of_sale</th>\n",
       "        <th>selling_agent</th>\n",
       "    </tr>\n",
       "    <tr>\n",
       "        <td>1</td>\n",
       "        <td>Ania Kraszka</td>\n",
       "        <td>1</td>\n",
       "        <td>2000000</td>\n",
       "        <td>2020/02/27</td>\n",
       "        <td>FADU</td>\n",
       "    </tr>\n",
       "    <tr>\n",
       "        <td>2</td>\n",
       "        <td>Ania Kraszka</td>\n",
       "        <td>2</td>\n",
       "        <td>2000000</td>\n",
       "        <td>2011/02/27</td>\n",
       "        <td>FADU</td>\n",
       "    </tr>\n",
       "    <tr>\n",
       "        <td>3</td>\n",
       "        <td>Max Planck</td>\n",
       "        <td>3</td>\n",
       "        <td>2000000</td>\n",
       "        <td>2018/11/17</td>\n",
       "        <td>UBA</td>\n",
       "    </tr>\n",
       "    <tr>\n",
       "        <td>4</td>\n",
       "        <td>Adolf Pitler</td>\n",
       "        <td>4</td>\n",
       "        <td>22630000</td>\n",
       "        <td>2000/02/27</td>\n",
       "        <td>FADU</td>\n",
       "    </tr>\n",
       "    <tr>\n",
       "        <td>5</td>\n",
       "        <td>Lazy Joe</td>\n",
       "        <td>5</td>\n",
       "        <td>200009</td>\n",
       "        <td>2005/12/29</td>\n",
       "        <td>HANYANG</td>\n",
       "    </tr>\n",
       "    <tr>\n",
       "        <td>6</td>\n",
       "        <td>Mr Angry</td>\n",
       "        <td>6</td>\n",
       "        <td>2000000</td>\n",
       "        <td>2013/02/27</td>\n",
       "        <td>UTN</td>\n",
       "    </tr>\n",
       "    <tr>\n",
       "        <td>7</td>\n",
       "        <td>Stahursky</td>\n",
       "        <td>7</td>\n",
       "        <td>2000000</td>\n",
       "        <td>2011/03/27</td>\n",
       "        <td>UBA</td>\n",
       "    </tr>\n",
       "</table>"
      ],
      "text/plain": [
       "[(1, u'Ania Kraszka', 1, 2000000, u'2020/02/27', u'FADU'),\n",
       " (2, u'Ania Kraszka', 2, 2000000, u'2011/02/27', u'FADU'),\n",
       " (3, u'Max Planck', 3, 2000000, u'2018/11/17', u'UBA'),\n",
       " (4, u'Adolf Pitler', 4, 22630000, u'2000/02/27', u'FADU'),\n",
       " (5, u'Lazy Joe', 5, 200009, u'2005/12/29', u'HANYANG'),\n",
       " (6, u'Mr Angry', 6, 2000000, u'2013/02/27', u'UTN'),\n",
       " (7, u'Stahursky', 7, 2000000, u'2011/03/27', u'UBA')]"
      ]
     },
     "execution_count": 60,
     "metadata": {},
     "output_type": "execute_result"
    }
   ],
   "source": [
    "%%sql\n",
    "SELECT * FROM buyer"
   ]
  },
  {
   "cell_type": "code",
   "execution_count": 58,
   "metadata": {
    "collapsed": false
   },
   "outputs": [
    {
     "name": "stdout",
     "output_type": "stream",
     "text": [
      " * sqlite://\n",
      "Done.\n"
     ]
    },
    {
     "data": {
      "text/html": [
       "<table>\n",
       "    <tr>\n",
       "        <th>transaction_id</th>\n",
       "        <th>number_of_bedrooms</th>\n",
       "        <th>number_of_bathrooms</th>\n",
       "        <th>listing_price</th>\n",
       "        <th>listing_agent</th>\n",
       "        <th>agent_email</th>\n",
       "        <th>listing_office</th>\n",
       "        <th>date_of_listing</th>\n",
       "        <th>zip_code</th>\n",
       "        <th>sold</th>\n",
       "        <th>Commission</th>\n",
       "    </tr>\n",
       "    <tr>\n",
       "        <td>1</td>\n",
       "        <td>3</td>\n",
       "        <td>2</td>\n",
       "        <td>2000000</td>\n",
       "        <td>Tom</td>\n",
       "        <td>Tom@fadu.ar</td>\n",
       "        <td>FADU</td>\n",
       "        <td>2012/02/27</td>\n",
       "        <td>45049</td>\n",
       "        <td>TRUE</td>\n",
       "        <td>2800000</td>\n",
       "    </tr>\n",
       "    <tr>\n",
       "        <td>14</td>\n",
       "        <td>2</td>\n",
       "        <td>1</td>\n",
       "        <td>3000</td>\n",
       "        <td>Tom</td>\n",
       "        <td>tom@utn.ar</td>\n",
       "        <td>UTN</td>\n",
       "        <td>2011/02/27</td>\n",
       "        <td>45049</td>\n",
       "        <td>TRUE</td>\n",
       "        <td>3300.0</td>\n",
       "    </tr>\n",
       "    <tr>\n",
       "        <td>15</td>\n",
       "        <td>1</td>\n",
       "        <td>1</td>\n",
       "        <td>40000</td>\n",
       "        <td>Tom</td>\n",
       "        <td>tom@fadu.ar</td>\n",
       "        <td>FADU</td>\n",
       "        <td>2011/02/27</td>\n",
       "        <td>45049</td>\n",
       "        <td>TRUE</td>\n",
       "        <td>44000</td>\n",
       "    </tr>\n",
       "    <tr>\n",
       "        <td>16</td>\n",
       "        <td>1</td>\n",
       "        <td>2</td>\n",
       "        <td>5000000</td>\n",
       "        <td>Mania</td>\n",
       "        <td>mania@utn.ar</td>\n",
       "        <td>UTN</td>\n",
       "        <td>2011/02/27</td>\n",
       "        <td>45049</td>\n",
       "        <td>TRUE</td>\n",
       "        <td>7000000</td>\n",
       "    </tr>\n",
       "    <tr>\n",
       "        <td>19</td>\n",
       "        <td>3</td>\n",
       "        <td>2</td>\n",
       "        <td>2000000</td>\n",
       "        <td>Ewa</td>\n",
       "        <td>ewa@uba.ar</td>\n",
       "        <td>UBA</td>\n",
       "        <td>2011/02/27</td>\n",
       "        <td>45049</td>\n",
       "        <td>TRUE</td>\n",
       "        <td>2800000</td>\n",
       "    </tr>\n",
       "    <tr>\n",
       "        <td>21</td>\n",
       "        <td>1</td>\n",
       "        <td>1</td>\n",
       "        <td>40000</td>\n",
       "        <td>Liza</td>\n",
       "        <td>liza@fadu.ar</td>\n",
       "        <td>FADU</td>\n",
       "        <td>2011/02/27</td>\n",
       "        <td>45049</td>\n",
       "        <td>TRUE</td>\n",
       "        <td>44000</td>\n",
       "    </tr>\n",
       "    <tr>\n",
       "        <td>22</td>\n",
       "        <td>1</td>\n",
       "        <td>2</td>\n",
       "        <td>5000000</td>\n",
       "        <td>Tom</td>\n",
       "        <td>tom@utn.ar</td>\n",
       "        <td>UTN</td>\n",
       "        <td>2011/02/27</td>\n",
       "        <td>45049</td>\n",
       "        <td>TRUE</td>\n",
       "        <td>7000000</td>\n",
       "    </tr>\n",
       "    <tr>\n",
       "        <td>29</td>\n",
       "        <td>2</td>\n",
       "        <td>1</td>\n",
       "        <td>20000</td>\n",
       "        <td>Ewa</td>\n",
       "        <td>ewa@fadu.ar</td>\n",
       "        <td>FADU</td>\n",
       "        <td>2011/02/27</td>\n",
       "        <td>45049</td>\n",
       "        <td>TRUE</td>\n",
       "        <td>22000</td>\n",
       "    </tr>\n",
       "    <tr>\n",
       "        <td>33</td>\n",
       "        <td>1</td>\n",
       "        <td>1</td>\n",
       "        <td>40000</td>\n",
       "        <td>Tom</td>\n",
       "        <td>tom@FADU.ar</td>\n",
       "        <td>FADU</td>\n",
       "        <td>2011/0/27</td>\n",
       "        <td>45049</td>\n",
       "        <td>TRUE</td>\n",
       "        <td>44000</td>\n",
       "    </tr>\n",
       "    <tr>\n",
       "        <td>34</td>\n",
       "        <td>1</td>\n",
       "        <td>2</td>\n",
       "        <td>5000000</td>\n",
       "        <td>Tom</td>\n",
       "        <td>tom@utn.ar</td>\n",
       "        <td>UTN</td>\n",
       "        <td>2011/05/27</td>\n",
       "        <td>45049</td>\n",
       "        <td>TRUE</td>\n",
       "        <td>7000000</td>\n",
       "    </tr>\n",
       "    <tr>\n",
       "        <td>35</td>\n",
       "        <td>2</td>\n",
       "        <td>1</td>\n",
       "        <td>20000</td>\n",
       "        <td>Tom</td>\n",
       "        <td>tom@fadu.ar</td>\n",
       "        <td>FADU</td>\n",
       "        <td>2011/05/27</td>\n",
       "        <td>45049</td>\n",
       "        <td>TRUE</td>\n",
       "        <td>22000</td>\n",
       "    </tr>\n",
       "    <tr>\n",
       "        <td>41</td>\n",
       "        <td>2</td>\n",
       "        <td>1</td>\n",
       "        <td>20000</td>\n",
       "        <td>Tom</td>\n",
       "        <td>tom@fadu.ar</td>\n",
       "        <td>FADU</td>\n",
       "        <td>2018/11/27</td>\n",
       "        <td>45049</td>\n",
       "        <td>TRUE</td>\n",
       "        <td>22000</td>\n",
       "    </tr>\n",
       "    <tr>\n",
       "        <td>46</td>\n",
       "        <td>1</td>\n",
       "        <td>2</td>\n",
       "        <td>5000000</td>\n",
       "        <td>Tom</td>\n",
       "        <td>tom@utn.ar</td>\n",
       "        <td>UTN</td>\n",
       "        <td>2018/09/27</td>\n",
       "        <td>45049</td>\n",
       "        <td>TRUE</td>\n",
       "        <td>7000000</td>\n",
       "    </tr>\n",
       "</table>"
      ],
      "text/plain": [
       "[(1, 3, 2, 2000000, u'Tom', u'Tom@fadu.ar', u'FADU', u'2012/02/27', 45049, u'TRUE', 2800000),\n",
       " (14, 2, 1, 3000, u'Tom', u'tom@utn.ar', u'UTN', u'2011/02/27', 45049, u'TRUE', 3300.0000000000005),\n",
       " (15, 1, 1, 40000, u'Tom', u'tom@fadu.ar', u'FADU', u'2011/02/27', 45049, u'TRUE', 44000),\n",
       " (16, 1, 2, 5000000, u'Mania', u'mania@utn.ar', u'UTN', u'2011/02/27', 45049, u'TRUE', 7000000),\n",
       " (19, 3, 2, 2000000, u'Ewa', u'ewa@uba.ar', u'UBA', u'2011/02/27', 45049, u'TRUE', 2800000),\n",
       " (21, 1, 1, 40000, u'Liza', u'liza@fadu.ar', u'FADU', u'2011/02/27', 45049, u'TRUE', 44000),\n",
       " (22, 1, 2, 5000000, u'Tom', u'tom@utn.ar', u'UTN', u'2011/02/27', 45049, u'TRUE', 7000000),\n",
       " (29, 2, 1, 20000, u'Ewa', u'ewa@fadu.ar', u'FADU', u'2011/02/27', 45049, u'TRUE', 22000),\n",
       " (33, 1, 1, 40000, u'Tom', u'tom@FADU.ar', u'FADU', u'2011/0/27', 45049, u'TRUE', 44000),\n",
       " (34, 1, 2, 5000000, u'Tom', u'tom@utn.ar', u'UTN', u'2011/05/27', 45049, u'TRUE', 7000000),\n",
       " (35, 2, 1, 20000, u'Tom', u'tom@fadu.ar', u'FADU', u'2011/05/27', 45049, u'TRUE', 22000),\n",
       " (41, 2, 1, 20000, u'Tom', u'tom@fadu.ar', u'FADU', u'2018/11/27', 45049, u'TRUE', 22000),\n",
       " (46, 1, 2, 5000000, u'Tom', u'tom@utn.ar', u'UTN', u'2018/09/27', 45049, u'TRUE', 7000000)]"
      ]
     },
     "execution_count": 58,
     "metadata": {},
     "output_type": "execute_result"
    }
   ],
   "source": [
    "%%sql\n",
    "\n",
    "SELECT * FROM housing_listing WHERE sold='TRUE'"
   ]
  },
  {
   "cell_type": "code",
   "execution_count": null,
   "metadata": {
    "collapsed": true
   },
   "outputs": [],
   "source": []
  },
  {
   "cell_type": "code",
   "execution_count": null,
   "metadata": {
    "collapsed": true
   },
   "outputs": [],
   "source": []
  },
  {
   "cell_type": "code",
   "execution_count": null,
   "metadata": {
    "collapsed": true
   },
   "outputs": [],
   "source": []
  },
  {
   "cell_type": "code",
   "execution_count": null,
   "metadata": {
    "collapsed": true
   },
   "outputs": [],
   "source": []
  },
  {
   "cell_type": "code",
   "execution_count": 25,
   "metadata": {
    "collapsed": false
   },
   "outputs": [
    {
     "name": "stdout",
     "output_type": "stream",
     "text": [
      " * sqlite://\n",
      "Done.\n"
     ]
    },
    {
     "data": {
      "text/html": [
       "<table>\n",
       "    <tr>\n",
       "        <th>Commission</th>\n",
       "        <th>listing_price</th>\n",
       "        <th>profit</th>\n",
       "    </tr>\n",
       "    <tr>\n",
       "        <td>7000000</td>\n",
       "        <td>5000000</td>\n",
       "        <td>6812300.0</td>\n",
       "    </tr>\n",
       "</table>"
      ],
      "text/plain": [
       "[(7000000, 5000000, 6812300.0)]"
      ]
     },
     "execution_count": 25,
     "metadata": {},
     "output_type": "execute_result"
    }
   ],
   "source": [
    "%%sql\n",
    "--TOM agreggate profits\n",
    "SELECT Commission, listing_price,SUM(Commission -listing_price) as profit FROM housing_listing WHERE date_of_listing BETWEEN '01-08-2018' and '31-08-2018' and sold = \"TRUE\" and listing_agent=\"Tom\""
   ]
  },
  {
   "cell_type": "code",
   "execution_count": 26,
   "metadata": {
    "collapsed": false
   },
   "outputs": [
    {
     "name": "stdout",
     "output_type": "stream",
     "text": [
      " * sqlite://\n",
      "Done.\n"
     ]
    },
    {
     "data": {
      "text/html": [
       "<table>\n",
       "    <tr>\n",
       "        <th>listing_agent</th>\n",
       "        <th>Commission</th>\n",
       "        <th>listing_price</th>\n",
       "        <th>profit</th>\n",
       "    </tr>\n",
       "    <tr>\n",
       "        <td>Ewa</td>\n",
       "        <td>22000</td>\n",
       "        <td>20000</td>\n",
       "        <td>2000</td>\n",
       "    </tr>\n",
       "    <tr>\n",
       "        <td>Liza</td>\n",
       "        <td>44000</td>\n",
       "        <td>40000</td>\n",
       "        <td>4000</td>\n",
       "    </tr>\n",
       "    <tr>\n",
       "        <td>Mania</td>\n",
       "        <td>7000000</td>\n",
       "        <td>5000000</td>\n",
       "        <td>2000000</td>\n",
       "    </tr>\n",
       "    <tr>\n",
       "        <td>Tom</td>\n",
       "        <td>7000000</td>\n",
       "        <td>5000000</td>\n",
       "        <td>2000000</td>\n",
       "    </tr>\n",
       "</table>"
      ],
      "text/plain": [
       "[(u'Ewa', 22000, 20000, 2000),\n",
       " (u'Liza', 44000, 40000, 4000),\n",
       " (u'Mania', 7000000, 5000000, 2000000),\n",
       " (u'Tom', 7000000, 5000000, 2000000)]"
      ]
     },
     "execution_count": 26,
     "metadata": {},
     "output_type": "execute_result"
    }
   ],
   "source": [
    "%%sql\n",
    "-- EVERYONEs aggregate profits \n",
    "SELECT listing_agent, Commission, listing_price,(Commission -listing_price) as profit FROM housing_listing WHERE date_of_listing BETWEEN '01-08-2018' and '31-08-2018' and sold = \"TRUE\" GROUP BY listing_agent"
   ]
  },
  {
   "cell_type": "code",
   "execution_count": null,
   "metadata": {
    "collapsed": true
   },
   "outputs": [],
   "source": []
  },
  {
   "cell_type": "code",
   "execution_count": null,
   "metadata": {
    "collapsed": true
   },
   "outputs": [],
   "source": []
  },
  {
   "cell_type": "code",
   "execution_count": null,
   "metadata": {
    "collapsed": true
   },
   "outputs": [],
   "source": []
  },
  {
   "cell_type": "code",
   "execution_count": null,
   "metadata": {
    "collapsed": true
   },
   "outputs": [],
   "source": []
  },
  {
   "cell_type": "code",
   "execution_count": null,
   "metadata": {
    "collapsed": true
   },
   "outputs": [],
   "source": [
    "# data normalization, indices, and transactions."
   ]
  },
  {
   "cell_type": "code",
   "execution_count": null,
   "metadata": {
    "collapsed": true
   },
   "outputs": [],
   "source": []
  },
  {
   "cell_type": "code",
   "execution_count": null,
   "metadata": {
    "collapsed": false
   },
   "outputs": [],
   "source": [
    "%%sql\n",
    "\n",
    "CREATE TABLE housing_listing1000 (\n",
    "    transaction_id INT PRIMARY KEY,\n",
    "    number_of_bedrooms INT,\n",
    "    number_of_bathrooms INT,\n",
    "    listing_price INT,\n",
    "    listing_agent TEXT,\n",
    "    listing_office TEXT,\n",
    "    date_of_listing DATETIME,\n",
    "    zip_code INT,\n",
    "    sold BOOL,\n",
    "    Commission INT\n",
    ");"
   ]
  },
  {
   "cell_type": "code",
   "execution_count": null,
   "metadata": {
    "collapsed": false
   },
   "outputs": [],
   "source": [
    "%%sql \n",
    "INSERT INTO housing_listing1000 VALUES (1, 3, 2, 2000000, 'Tom', 'FADU','02-08-1998',45049, 'FALSE',0);\n",
    "INSERT INTO housing_listing1000 VALUES (2, 2, 1, 3000, 'Tom', 'FADU','02-08-1998',45049,'FALSE',0);\n",
    "INSERT INTO housing_listing1000 VALUES (3, 1, 1, 40000, 'Tom', 'FADU','02-08-1998',45049, 'FALSE',0);\n",
    "INSERT INTO housing_listing1000 VALUES (4, 1, 2, 5000000, 'Tom', 'FADU','02-08-1998',45049, 'FALSE',0);\n",
    "INSERT INTO housing_listing1000 VALUES (5, 2, 1, 20000, 'Tom', 'FADU','02-08-1998',45049, 'FALSE',0);\n",
    "INSERT INTO housing_listing1000 VALUES (6, 3, 1, 3000, 'Tom', 'FADU','02-08-1998',45049,'FALSE',0);"
   ]
  },
  {
   "cell_type": "code",
   "execution_count": null,
   "metadata": {
    "collapsed": false
   },
   "outputs": [],
   "source": [
    "%%sql \n",
    "SELECT * FROM housing_listing1000"
   ]
  },
  {
   "cell_type": "code",
   "execution_count": null,
   "metadata": {
    "collapsed": false
   },
   "outputs": [],
   "source": [
    "%%sql\n",
    "\n",
    "UPDATE housing_listing1000  \n",
    "SET     Commission =  CASE  \n",
    "                 WHEN listing_price < 100000 THEN listing_price * 1.1\n",
    "                 WHEN listing_price > 100000 AND listing_price < 200000 THEN listing_price * 1.75\n",
    "                 WHEN listing_price > 200000 AND listing_price < 500000 THEN listing_price * 1.6\n",
    "                 WHEN listing_price > 500000 AND listing_price < 1000000 THEN listing_price * 1.5\n",
    "                 WHEN listing_price > 1000000 THEN listing_price * 1.4\n",
    "                    END         "
   ]
  },
  {
   "cell_type": "code",
   "execution_count": null,
   "metadata": {
    "collapsed": false
   },
   "outputs": [],
   "source": [
    "%%sql \n",
    "\n",
    "SELECT * FROM housing_listing1000;\n"
   ]
  },
  {
   "cell_type": "code",
   "execution_count": null,
   "metadata": {
    "collapsed": false
   },
   "outputs": [],
   "source": [
    "%%sql\n",
    "\n",
    "UPDATE housing_listing1000\n",
    "    SELECT *,\n",
    "    SET     Commission =\n",
    "           (CASE WHEN listing_price < 100000 THEN listing_price * 1.1\n",
    "                 WHEN listing_price > 100000 AND listing_price < 200000 THEN listing_price * 1.75\n",
    "                 WHEN listing_price > 200000 AND listing_price < 500000 THEN listing_price * 1.6\n",
    "                 WHEN listing_price > 500000 AND listing_price < 1000000 THEN listing_price * 1.5\n",
    "                 WHEN listing_price > 1000000 THEN listing_price * 1.4\n",
    "            END) \n",
    "    FROM housing_listing1000;\n",
    "    \n",
    "    \n",
    "\n"
   ]
  },
  {
   "cell_type": "code",
   "execution_count": null,
   "metadata": {
    "collapsed": true
   },
   "outputs": [],
   "source": [
    "%%sql\n",
    "\n",
    "CREATE VIEW full_housing_listing as\n",
    "    SELECT *,\n",
    "\n",
    "           (CASE WHEN listing_price < 100000 THEN listing_price * 1.1\n",
    "                 WHEN listing_price > 100000 AND listing_price < 200000 THEN listing_price * 1.75\n",
    "                 WHEN listing_price > 200000 AND listing_price < 500000 THEN listing_price * 1.6\n",
    "                 WHEN listing_price > 500000 AND listing_price < 1000000 THEN listing_price * 1.5\n",
    "                 WHEN listing_price > 1000000 THEN listing_price * 1.4\n",
    "            END) AS Commission_price\n",
    "    FROM housing_listing;"
   ]
  },
  {
   "cell_type": "code",
   "execution_count": null,
   "metadata": {
    "collapsed": true
   },
   "outputs": [],
   "source": [
    "%%sql\n",
    "SELECT listing_office, COUNT(listing_office) FROM housing_listing WHERE date_of_listing BETWEEN '2011/02/27' and '2012/02/27' and sold = \"TRUE\" GROUP BY listing_office  "
   ]
  },
  {
   "cell_type": "code",
   "execution_count": null,
   "metadata": {
    "collapsed": true
   },
   "outputs": [],
   "source": [
    "%%sql\n",
    "-- TOM profits\n",
    "SELECT listing_agent, Commission, listing_price,(Commission -listing_price) as profit \n",
    "FROM housing_listing \n",
    "WHERE date_of_listing \n",
    "BETWEEN '2011/02/27' and '2011/03/27'  and sold = \"TRUE\" \n"
   ]
  }
 ],
 "metadata": {
  "anaconda-cloud": {},
  "kernelspec": {
   "display_name": "Python [Root]",
   "language": "python",
   "name": "Python [Root]"
  },
  "language_info": {
   "codemirror_mode": {
    "name": "ipython",
    "version": 2
   },
   "file_extension": ".py",
   "mimetype": "text/x-python",
   "name": "python",
   "nbconvert_exporter": "python",
   "pygments_lexer": "ipython2",
   "version": "2.7.6"
  }
 },
 "nbformat": 4,
 "nbformat_minor": 0
}
